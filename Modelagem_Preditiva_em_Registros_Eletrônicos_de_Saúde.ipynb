{
 "cells": [
  {
   "cell_type": "markdown",
   "metadata": {},
   "source": [
    "# Modelagem Preditiva em Registros Eletrônicos de Saúde"
   ]
  },
  {
   "cell_type": "markdown",
   "metadata": {},
   "source": [
    "O objetivo neste projeto foi prever se um paciente poderá ser readmitido em uma clínica no período de 30 dias após alta. Para isso, foi feito a construção de diversos modelos preditivos usando registros eletrônicos de saúde de uma clínica fictícia.\n",
    "\n",
    "Esse projeto teve como base uma pesquisa realizada em 2018, chamada:\n",
    "\n",
    "Using Electronic Health Records and Machine Learning to Make Medical-Related Predictions from Non-Medical Data\n",
    "\n",
    "https://ieeexplore.ieee.org/document/8614004"
   ]
  },
  {
   "cell_type": "markdown",
   "metadata": {},
   "source": [
    "### Registros Eletrônicos de Saúde (Electronic Health Records)"
   ]
  },
  {
   "cell_type": "markdown",
   "metadata": {},
   "source": [
    "Um Registro Eletrônico de Saúde (Electronic Health Records - EHR) é uma versão digital da ficha de papel de um paciente. Os EHRs são registros em tempo real, centrados no paciente, que tornam as informações disponíveis instantânea e seguramente para usuários autorizados. Embora um EHR contenha os históricos médicos e de tratamento dos pacientes, um sistema de EHR é construído para ir além dos dados clínicos coletados no consultório de um prestador de serviços e pode incluir uma visão mais ampla do atendimento de um paciente. Os EHRs são uma parte vital da TI em saúde e podem:\n",
    "\n",
    "- Conter o histórico médico do paciente, diagnósticos, medicamentos, planos de tratamento, datas de imunização, alergias, imagens de radiologia e resultados laboratoriais e de testes.\n",
    "\n",
    "\n",
    "- Permitir acesso a ferramentas baseadas em evidências que os provedores podem usar para tomar decisões sobre o atendimento de um paciente.\n",
    "\n",
    "\n",
    "- Automatiza e simplifica o fluxo de trabalho do provedor.\n",
    "\n",
    "Um dos principais recursos de um EHR é que as informações de saúde podem ser criadas e gerenciadas por provedores autorizados em um formato digital capaz de ser compartilhado com outros provedores em mais de uma organização de saúde. Os EHRs são construídos para compartilhar informações com outros prestadores de cuidados de saúde e organizações - como laboratórios, especialistas, instalações de imagens médicas, farmácias, instalações de emergência e clínicas de escolas e locais de trabalho - para que eles contenham informações de todos os clínicos envolvidos no atendimento de um paciente."
   ]
  },
  {
   "cell_type": "markdown",
   "metadata": {},
   "source": [
    "## 1.0 - Carregando os Dados e Compreendendo as Variáveis"
   ]
  },
  {
   "cell_type": "code",
   "execution_count": 1,
   "metadata": {},
   "outputs": [],
   "source": [
    "# Imports\n",
    "import warnings\n",
    "warnings.simplefilter(action='ignore', category=FutureWarning)\n",
    "warnings.filterwarnings(\"ignore\", category=FutureWarning)\n",
    "import matplotlib\n",
    "import numpy as np\n",
    "import pandas as pd\n",
    "import matplotlib.pyplot as plt\n",
    "import seaborn as sns\n",
    "%matplotlib inline\n",
    "plt.rcParams['figure.figsize'] = (8.0, 6.0)"
   ]
  },
  {
   "cell_type": "code",
   "execution_count": 2,
   "metadata": {},
   "outputs": [
    {
     "data": {
      "text/html": [
       "<div>\n",
       "<style scoped>\n",
       "    .dataframe tbody tr th:only-of-type {\n",
       "        vertical-align: middle;\n",
       "    }\n",
       "\n",
       "    .dataframe tbody tr th {\n",
       "        vertical-align: top;\n",
       "    }\n",
       "\n",
       "    .dataframe thead th {\n",
       "        text-align: right;\n",
       "    }\n",
       "</style>\n",
       "<table border=\"1\" class=\"dataframe\">\n",
       "  <thead>\n",
       "    <tr style=\"text-align: right;\">\n",
       "      <th></th>\n",
       "      <th>IDADE</th>\n",
       "      <th>SEXO_F</th>\n",
       "      <th>SEXO_M</th>\n",
       "      <th>ADM_CORRENTE_DIAS</th>\n",
       "      <th>RECEB_MEDICAMENTOS</th>\n",
       "      <th>FEZ_EXAMES</th>\n",
       "      <th>DEPEND_QUIMICO</th>\n",
       "      <th>FUMANTE</th>\n",
       "      <th>ALCOOLISMO</th>\n",
       "      <th>NUM_DIAS_INT_PREVIA</th>\n",
       "      <th>ADM_PREVIA_DIAS</th>\n",
       "      <th>NUM_DIAS_LIC_MEDICA</th>\n",
       "      <th>READMISSAO_30_DIAS</th>\n",
       "    </tr>\n",
       "    <tr>\n",
       "      <th>ID</th>\n",
       "      <th></th>\n",
       "      <th></th>\n",
       "      <th></th>\n",
       "      <th></th>\n",
       "      <th></th>\n",
       "      <th></th>\n",
       "      <th></th>\n",
       "      <th></th>\n",
       "      <th></th>\n",
       "      <th></th>\n",
       "      <th></th>\n",
       "      <th></th>\n",
       "      <th></th>\n",
       "    </tr>\n",
       "  </thead>\n",
       "  <tbody>\n",
       "    <tr>\n",
       "      <th>0</th>\n",
       "      <td>62.0</td>\n",
       "      <td>1</td>\n",
       "      <td>0</td>\n",
       "      <td>1</td>\n",
       "      <td>0</td>\n",
       "      <td>1</td>\n",
       "      <td>0</td>\n",
       "      <td>0</td>\n",
       "      <td>0</td>\n",
       "      <td>0</td>\n",
       "      <td>0</td>\n",
       "      <td>0</td>\n",
       "      <td>1</td>\n",
       "    </tr>\n",
       "    <tr>\n",
       "      <th>1</th>\n",
       "      <td>24.0</td>\n",
       "      <td>0</td>\n",
       "      <td>1</td>\n",
       "      <td>2</td>\n",
       "      <td>0</td>\n",
       "      <td>0</td>\n",
       "      <td>1</td>\n",
       "      <td>0</td>\n",
       "      <td>0</td>\n",
       "      <td>0</td>\n",
       "      <td>0</td>\n",
       "      <td>0</td>\n",
       "      <td>0</td>\n",
       "    </tr>\n",
       "    <tr>\n",
       "      <th>2</th>\n",
       "      <td>77.0</td>\n",
       "      <td>0</td>\n",
       "      <td>1</td>\n",
       "      <td>2</td>\n",
       "      <td>0</td>\n",
       "      <td>0</td>\n",
       "      <td>1</td>\n",
       "      <td>0</td>\n",
       "      <td>0</td>\n",
       "      <td>2</td>\n",
       "      <td>2</td>\n",
       "      <td>0</td>\n",
       "      <td>0</td>\n",
       "    </tr>\n",
       "    <tr>\n",
       "      <th>3</th>\n",
       "      <td>68.0</td>\n",
       "      <td>0</td>\n",
       "      <td>1</td>\n",
       "      <td>7</td>\n",
       "      <td>0</td>\n",
       "      <td>0</td>\n",
       "      <td>1</td>\n",
       "      <td>0</td>\n",
       "      <td>0</td>\n",
       "      <td>2</td>\n",
       "      <td>2</td>\n",
       "      <td>0</td>\n",
       "      <td>0</td>\n",
       "    </tr>\n",
       "    <tr>\n",
       "      <th>4</th>\n",
       "      <td>83.0</td>\n",
       "      <td>0</td>\n",
       "      <td>1</td>\n",
       "      <td>2</td>\n",
       "      <td>0</td>\n",
       "      <td>0</td>\n",
       "      <td>1</td>\n",
       "      <td>0</td>\n",
       "      <td>0</td>\n",
       "      <td>1</td>\n",
       "      <td>1</td>\n",
       "      <td>0</td>\n",
       "      <td>0</td>\n",
       "    </tr>\n",
       "  </tbody>\n",
       "</table>\n",
       "</div>"
      ],
      "text/plain": [
       "    IDADE  SEXO_F  SEXO_M  ADM_CORRENTE_DIAS  RECEB_MEDICAMENTOS  FEZ_EXAMES  \\\n",
       "ID                                                                             \n",
       "0    62.0       1       0                  1                   0           1   \n",
       "1    24.0       0       1                  2                   0           0   \n",
       "2    77.0       0       1                  2                   0           0   \n",
       "3    68.0       0       1                  7                   0           0   \n",
       "4    83.0       0       1                  2                   0           0   \n",
       "\n",
       "    DEPEND_QUIMICO  FUMANTE  ALCOOLISMO  NUM_DIAS_INT_PREVIA  ADM_PREVIA_DIAS  \\\n",
       "ID                                                                              \n",
       "0                0        0           0                    0                0   \n",
       "1                1        0           0                    0                0   \n",
       "2                1        0           0                    2                2   \n",
       "3                1        0           0                    2                2   \n",
       "4                1        0           0                    1                1   \n",
       "\n",
       "    NUM_DIAS_LIC_MEDICA  READMISSAO_30_DIAS  \n",
       "ID                                           \n",
       "0                     0                   1  \n",
       "1                     0                   0  \n",
       "2                     0                   0  \n",
       "3                     0                   0  \n",
       "4                     0                   0  "
      ]
     },
     "execution_count": 2,
     "metadata": {},
     "output_type": "execute_result"
    }
   ],
   "source": [
    "# Carregando os dados\n",
    "dataset = pd.read_csv('dados/dataset.csv', index_col = [0])\n",
    "dataset.head()"
   ]
  },
  {
   "cell_type": "markdown",
   "metadata": {},
   "source": [
    "Dicionário de Dados\n",
    "\n",
    "- IDADE - Idade do paciente (variável numérica)\n",
    "- SEXO_F - paciente do sexo feminino (variável categórica)\n",
    "- SEXO_M - paciente do sexo masculino (variável categórica)\n",
    "- ADM_CORRENTE_DIAS - Dias desde a admissão atual (variável numérica)\n",
    "- RECEB_MEDICAMENTOS - Recebeu medicamentos na última internação (variável categórica)\n",
    "- FEZ_EXAMES - Fez exames na última internação (variável categórica)\n",
    "- DEPEND_QUIMICO - Dependendo químico (variável categórica)\n",
    "- FUMANTE - Fumante (variável categórica)\n",
    "- ALCOOLISMO - Alcoolismo (variável categórica)\n",
    "- NUM_DIAS_INT_PREVIA - Número de internações anteriores (variável numérica)\n",
    "- ADM_PREVIA_DIAS - Dias da admissão anterior (variável numérica)\n",
    "- NUM_DIAS_LIC_MEDICA - Licença médica (variável numérica)\n",
    "- READMISSAO_30_DIAS - Readmissão dentro de 30 dias após a alta. Variável target. 0 - Não / 1 - Sim"
   ]
  },
  {
   "cell_type": "markdown",
   "metadata": {},
   "source": [
    "## 2.0 - Análise Exploratória"
   ]
  },
  {
   "cell_type": "code",
   "execution_count": 3,
   "metadata": {},
   "outputs": [
    {
     "data": {
      "text/plain": [
       "(117180, 13)"
      ]
     },
     "execution_count": 3,
     "metadata": {},
     "output_type": "execute_result"
    }
   ],
   "source": [
    "# Shape\n",
    "dataset.shape"
   ]
  },
  {
   "cell_type": "code",
   "execution_count": 4,
   "metadata": {},
   "outputs": [
    {
     "data": {
      "text/plain": [
       "IDADE                  float64\n",
       "SEXO_F                   int64\n",
       "SEXO_M                   int64\n",
       "ADM_CORRENTE_DIAS        int64\n",
       "RECEB_MEDICAMENTOS       int64\n",
       "FEZ_EXAMES               int64\n",
       "DEPEND_QUIMICO           int64\n",
       "FUMANTE                  int64\n",
       "ALCOOLISMO               int64\n",
       "NUM_DIAS_INT_PREVIA      int64\n",
       "ADM_PREVIA_DIAS          int64\n",
       "NUM_DIAS_LIC_MEDICA      int64\n",
       "READMISSAO_30_DIAS       int64\n",
       "dtype: object"
      ]
     },
     "execution_count": 4,
     "metadata": {},
     "output_type": "execute_result"
    }
   ],
   "source": [
    "# Tipos de Dados\n",
    "dataset.dtypes"
   ]
  },
  {
   "cell_type": "code",
   "execution_count": 5,
   "metadata": {},
   "outputs": [
    {
     "data": {
      "text/html": [
       "<div>\n",
       "<style scoped>\n",
       "    .dataframe tbody tr th:only-of-type {\n",
       "        vertical-align: middle;\n",
       "    }\n",
       "\n",
       "    .dataframe tbody tr th {\n",
       "        vertical-align: top;\n",
       "    }\n",
       "\n",
       "    .dataframe thead th {\n",
       "        text-align: right;\n",
       "    }\n",
       "</style>\n",
       "<table border=\"1\" class=\"dataframe\">\n",
       "  <thead>\n",
       "    <tr style=\"text-align: right;\">\n",
       "      <th></th>\n",
       "      <th>IDADE</th>\n",
       "      <th>SEXO_F</th>\n",
       "      <th>SEXO_M</th>\n",
       "      <th>ADM_CORRENTE_DIAS</th>\n",
       "      <th>RECEB_MEDICAMENTOS</th>\n",
       "      <th>FEZ_EXAMES</th>\n",
       "      <th>DEPEND_QUIMICO</th>\n",
       "      <th>FUMANTE</th>\n",
       "      <th>ALCOOLISMO</th>\n",
       "      <th>NUM_DIAS_INT_PREVIA</th>\n",
       "      <th>ADM_PREVIA_DIAS</th>\n",
       "      <th>NUM_DIAS_LIC_MEDICA</th>\n",
       "      <th>READMISSAO_30_DIAS</th>\n",
       "    </tr>\n",
       "  </thead>\n",
       "  <tbody>\n",
       "    <tr>\n",
       "      <th>count</th>\n",
       "      <td>117180.000000</td>\n",
       "      <td>117180.000000</td>\n",
       "      <td>117180.000000</td>\n",
       "      <td>117180.000000</td>\n",
       "      <td>117180.000000</td>\n",
       "      <td>117180.000000</td>\n",
       "      <td>117180.000000</td>\n",
       "      <td>117180.000000</td>\n",
       "      <td>117180.000000</td>\n",
       "      <td>117180.000000</td>\n",
       "      <td>117180.000000</td>\n",
       "      <td>117180.000000</td>\n",
       "      <td>117180.000000</td>\n",
       "    </tr>\n",
       "    <tr>\n",
       "      <th>mean</th>\n",
       "      <td>65.066522</td>\n",
       "      <td>0.428239</td>\n",
       "      <td>0.571761</td>\n",
       "      <td>4.707680</td>\n",
       "      <td>0.160266</td>\n",
       "      <td>0.237020</td>\n",
       "      <td>0.597440</td>\n",
       "      <td>0.005274</td>\n",
       "      <td>0.008269</td>\n",
       "      <td>5.301988</td>\n",
       "      <td>12.328179</td>\n",
       "      <td>0.314456</td>\n",
       "      <td>0.189384</td>\n",
       "    </tr>\n",
       "    <tr>\n",
       "      <th>std</th>\n",
       "      <td>17.965229</td>\n",
       "      <td>0.494826</td>\n",
       "      <td>0.494826</td>\n",
       "      <td>6.257739</td>\n",
       "      <td>0.366854</td>\n",
       "      <td>0.425256</td>\n",
       "      <td>0.490416</td>\n",
       "      <td>0.072430</td>\n",
       "      <td>0.090559</td>\n",
       "      <td>14.324146</td>\n",
       "      <td>26.846820</td>\n",
       "      <td>3.366208</td>\n",
       "      <td>0.391815</td>\n",
       "    </tr>\n",
       "    <tr>\n",
       "      <th>min</th>\n",
       "      <td>0.000000</td>\n",
       "      <td>0.000000</td>\n",
       "      <td>0.000000</td>\n",
       "      <td>1.000000</td>\n",
       "      <td>0.000000</td>\n",
       "      <td>0.000000</td>\n",
       "      <td>0.000000</td>\n",
       "      <td>0.000000</td>\n",
       "      <td>0.000000</td>\n",
       "      <td>0.000000</td>\n",
       "      <td>0.000000</td>\n",
       "      <td>0.000000</td>\n",
       "      <td>0.000000</td>\n",
       "    </tr>\n",
       "    <tr>\n",
       "      <th>25%</th>\n",
       "      <td>56.000000</td>\n",
       "      <td>0.000000</td>\n",
       "      <td>0.000000</td>\n",
       "      <td>1.000000</td>\n",
       "      <td>0.000000</td>\n",
       "      <td>0.000000</td>\n",
       "      <td>0.000000</td>\n",
       "      <td>0.000000</td>\n",
       "      <td>0.000000</td>\n",
       "      <td>0.000000</td>\n",
       "      <td>0.000000</td>\n",
       "      <td>0.000000</td>\n",
       "      <td>0.000000</td>\n",
       "    </tr>\n",
       "    <tr>\n",
       "      <th>50%</th>\n",
       "      <td>69.000000</td>\n",
       "      <td>0.000000</td>\n",
       "      <td>1.000000</td>\n",
       "      <td>2.000000</td>\n",
       "      <td>0.000000</td>\n",
       "      <td>0.000000</td>\n",
       "      <td>1.000000</td>\n",
       "      <td>0.000000</td>\n",
       "      <td>0.000000</td>\n",
       "      <td>0.000000</td>\n",
       "      <td>0.000000</td>\n",
       "      <td>0.000000</td>\n",
       "      <td>0.000000</td>\n",
       "    </tr>\n",
       "    <tr>\n",
       "      <th>75%</th>\n",
       "      <td>78.000000</td>\n",
       "      <td>1.000000</td>\n",
       "      <td>1.000000</td>\n",
       "      <td>6.000000</td>\n",
       "      <td>0.000000</td>\n",
       "      <td>0.000000</td>\n",
       "      <td>1.000000</td>\n",
       "      <td>0.000000</td>\n",
       "      <td>0.000000</td>\n",
       "      <td>3.000000</td>\n",
       "      <td>12.000000</td>\n",
       "      <td>0.000000</td>\n",
       "      <td>0.000000</td>\n",
       "    </tr>\n",
       "    <tr>\n",
       "      <th>max</th>\n",
       "      <td>114.000000</td>\n",
       "      <td>1.000000</td>\n",
       "      <td>1.000000</td>\n",
       "      <td>307.000000</td>\n",
       "      <td>1.000000</td>\n",
       "      <td>1.000000</td>\n",
       "      <td>1.000000</td>\n",
       "      <td>1.000000</td>\n",
       "      <td>1.000000</td>\n",
       "      <td>170.000000</td>\n",
       "      <td>627.000000</td>\n",
       "      <td>315.000000</td>\n",
       "      <td>1.000000</td>\n",
       "    </tr>\n",
       "  </tbody>\n",
       "</table>\n",
       "</div>"
      ],
      "text/plain": [
       "               IDADE         SEXO_F         SEXO_M  ADM_CORRENTE_DIAS  \\\n",
       "count  117180.000000  117180.000000  117180.000000      117180.000000   \n",
       "mean       65.066522       0.428239       0.571761           4.707680   \n",
       "std        17.965229       0.494826       0.494826           6.257739   \n",
       "min         0.000000       0.000000       0.000000           1.000000   \n",
       "25%        56.000000       0.000000       0.000000           1.000000   \n",
       "50%        69.000000       0.000000       1.000000           2.000000   \n",
       "75%        78.000000       1.000000       1.000000           6.000000   \n",
       "max       114.000000       1.000000       1.000000         307.000000   \n",
       "\n",
       "       RECEB_MEDICAMENTOS     FEZ_EXAMES  DEPEND_QUIMICO        FUMANTE  \\\n",
       "count       117180.000000  117180.000000   117180.000000  117180.000000   \n",
       "mean             0.160266       0.237020        0.597440       0.005274   \n",
       "std              0.366854       0.425256        0.490416       0.072430   \n",
       "min              0.000000       0.000000        0.000000       0.000000   \n",
       "25%              0.000000       0.000000        0.000000       0.000000   \n",
       "50%              0.000000       0.000000        1.000000       0.000000   \n",
       "75%              0.000000       0.000000        1.000000       0.000000   \n",
       "max              1.000000       1.000000        1.000000       1.000000   \n",
       "\n",
       "          ALCOOLISMO  NUM_DIAS_INT_PREVIA  ADM_PREVIA_DIAS  \\\n",
       "count  117180.000000        117180.000000    117180.000000   \n",
       "mean        0.008269             5.301988        12.328179   \n",
       "std         0.090559            14.324146        26.846820   \n",
       "min         0.000000             0.000000         0.000000   \n",
       "25%         0.000000             0.000000         0.000000   \n",
       "50%         0.000000             0.000000         0.000000   \n",
       "75%         0.000000             3.000000        12.000000   \n",
       "max         1.000000           170.000000       627.000000   \n",
       "\n",
       "       NUM_DIAS_LIC_MEDICA  READMISSAO_30_DIAS  \n",
       "count        117180.000000       117180.000000  \n",
       "mean              0.314456            0.189384  \n",
       "std               3.366208            0.391815  \n",
       "min               0.000000            0.000000  \n",
       "25%               0.000000            0.000000  \n",
       "50%               0.000000            0.000000  \n",
       "75%               0.000000            0.000000  \n",
       "max             315.000000            1.000000  "
      ]
     },
     "execution_count": 5,
     "metadata": {},
     "output_type": "execute_result"
    }
   ],
   "source": [
    "# Resumo Estatístico\n",
    "dataset.describe()"
   ]
  },
  {
   "cell_type": "code",
   "execution_count": 6,
   "metadata": {},
   "outputs": [
    {
     "data": {
      "text/plain": [
       "IDADE                  0\n",
       "SEXO_F                 0\n",
       "SEXO_M                 0\n",
       "ADM_CORRENTE_DIAS      0\n",
       "RECEB_MEDICAMENTOS     0\n",
       "FEZ_EXAMES             0\n",
       "DEPEND_QUIMICO         0\n",
       "FUMANTE                0\n",
       "ALCOOLISMO             0\n",
       "NUM_DIAS_INT_PREVIA    0\n",
       "ADM_PREVIA_DIAS        0\n",
       "NUM_DIAS_LIC_MEDICA    0\n",
       "READMISSAO_30_DIAS     0\n",
       "dtype: int64"
      ]
     },
     "execution_count": 6,
     "metadata": {},
     "output_type": "execute_result"
    }
   ],
   "source": [
    "# Verificando se tem valores ausentes\n",
    "# Total por variável\n",
    "dataset.isnull().sum()"
   ]
  },
  {
   "cell_type": "code",
   "execution_count": 7,
   "metadata": {},
   "outputs": [
    {
     "data": {
      "text/plain": [
       "IDADE                  117180\n",
       "SEXO_F                 117180\n",
       "SEXO_M                 117180\n",
       "ADM_CORRENTE_DIAS      117180\n",
       "RECEB_MEDICAMENTOS     117180\n",
       "FEZ_EXAMES             117180\n",
       "DEPEND_QUIMICO         117180\n",
       "FUMANTE                117180\n",
       "ALCOOLISMO             117180\n",
       "NUM_DIAS_INT_PREVIA    117180\n",
       "ADM_PREVIA_DIAS        117180\n",
       "NUM_DIAS_LIC_MEDICA    117180\n",
       "READMISSAO_30_DIAS     117180\n",
       "dtype: int64"
      ]
     },
     "execution_count": 7,
     "metadata": {},
     "output_type": "execute_result"
    }
   ],
   "source": [
    "# Total de linhas por coluna\n",
    "dataset.count() "
   ]
  },
  {
   "cell_type": "code",
   "execution_count": 8,
   "metadata": {},
   "outputs": [
    {
     "name": "stdout",
     "output_type": "stream",
     "text": [
      "Número de linhas duplicadas:  60839\n"
     ]
    }
   ],
   "source": [
    "# Linhas contendo dados duplicados\n",
    "linha_duplicadas = dataset[dataset.duplicated()]\n",
    "print(\"Número de linhas duplicadas: \", linha_duplicadas.shape[0])\n",
    "\n",
    "# São realmente dados duplicados?"
   ]
  },
  {
   "cell_type": "code",
   "execution_count": 9,
   "metadata": {},
   "outputs": [
    {
     "data": {
      "text/html": [
       "<div>\n",
       "<style scoped>\n",
       "    .dataframe tbody tr th:only-of-type {\n",
       "        vertical-align: middle;\n",
       "    }\n",
       "\n",
       "    .dataframe tbody tr th {\n",
       "        vertical-align: top;\n",
       "    }\n",
       "\n",
       "    .dataframe thead th {\n",
       "        text-align: right;\n",
       "    }\n",
       "</style>\n",
       "<table border=\"1\" class=\"dataframe\">\n",
       "  <thead>\n",
       "    <tr style=\"text-align: right;\">\n",
       "      <th></th>\n",
       "      <th>IDADE</th>\n",
       "      <th>SEXO_F</th>\n",
       "      <th>SEXO_M</th>\n",
       "      <th>ADM_CORRENTE_DIAS</th>\n",
       "      <th>RECEB_MEDICAMENTOS</th>\n",
       "      <th>FEZ_EXAMES</th>\n",
       "      <th>DEPEND_QUIMICO</th>\n",
       "      <th>FUMANTE</th>\n",
       "      <th>ALCOOLISMO</th>\n",
       "      <th>NUM_DIAS_INT_PREVIA</th>\n",
       "      <th>ADM_PREVIA_DIAS</th>\n",
       "      <th>NUM_DIAS_LIC_MEDICA</th>\n",
       "      <th>READMISSAO_30_DIAS</th>\n",
       "    </tr>\n",
       "    <tr>\n",
       "      <th>ID</th>\n",
       "      <th></th>\n",
       "      <th></th>\n",
       "      <th></th>\n",
       "      <th></th>\n",
       "      <th></th>\n",
       "      <th></th>\n",
       "      <th></th>\n",
       "      <th></th>\n",
       "      <th></th>\n",
       "      <th></th>\n",
       "      <th></th>\n",
       "      <th></th>\n",
       "      <th></th>\n",
       "    </tr>\n",
       "  </thead>\n",
       "  <tbody>\n",
       "    <tr>\n",
       "      <th>0</th>\n",
       "      <td>62.0</td>\n",
       "      <td>1</td>\n",
       "      <td>0</td>\n",
       "      <td>1</td>\n",
       "      <td>0</td>\n",
       "      <td>1</td>\n",
       "      <td>0</td>\n",
       "      <td>0</td>\n",
       "      <td>0</td>\n",
       "      <td>0</td>\n",
       "      <td>0</td>\n",
       "      <td>0</td>\n",
       "      <td>1</td>\n",
       "    </tr>\n",
       "    <tr>\n",
       "      <th>1</th>\n",
       "      <td>24.0</td>\n",
       "      <td>0</td>\n",
       "      <td>1</td>\n",
       "      <td>2</td>\n",
       "      <td>0</td>\n",
       "      <td>0</td>\n",
       "      <td>1</td>\n",
       "      <td>0</td>\n",
       "      <td>0</td>\n",
       "      <td>0</td>\n",
       "      <td>0</td>\n",
       "      <td>0</td>\n",
       "      <td>0</td>\n",
       "    </tr>\n",
       "    <tr>\n",
       "      <th>2</th>\n",
       "      <td>77.0</td>\n",
       "      <td>0</td>\n",
       "      <td>1</td>\n",
       "      <td>2</td>\n",
       "      <td>0</td>\n",
       "      <td>0</td>\n",
       "      <td>1</td>\n",
       "      <td>0</td>\n",
       "      <td>0</td>\n",
       "      <td>2</td>\n",
       "      <td>2</td>\n",
       "      <td>0</td>\n",
       "      <td>0</td>\n",
       "    </tr>\n",
       "    <tr>\n",
       "      <th>3</th>\n",
       "      <td>68.0</td>\n",
       "      <td>0</td>\n",
       "      <td>1</td>\n",
       "      <td>7</td>\n",
       "      <td>0</td>\n",
       "      <td>0</td>\n",
       "      <td>1</td>\n",
       "      <td>0</td>\n",
       "      <td>0</td>\n",
       "      <td>2</td>\n",
       "      <td>2</td>\n",
       "      <td>0</td>\n",
       "      <td>0</td>\n",
       "    </tr>\n",
       "    <tr>\n",
       "      <th>4</th>\n",
       "      <td>83.0</td>\n",
       "      <td>0</td>\n",
       "      <td>1</td>\n",
       "      <td>2</td>\n",
       "      <td>0</td>\n",
       "      <td>0</td>\n",
       "      <td>1</td>\n",
       "      <td>0</td>\n",
       "      <td>0</td>\n",
       "      <td>1</td>\n",
       "      <td>1</td>\n",
       "      <td>0</td>\n",
       "      <td>0</td>\n",
       "    </tr>\n",
       "  </tbody>\n",
       "</table>\n",
       "</div>"
      ],
      "text/plain": [
       "    IDADE  SEXO_F  SEXO_M  ADM_CORRENTE_DIAS  RECEB_MEDICAMENTOS  FEZ_EXAMES  \\\n",
       "ID                                                                             \n",
       "0    62.0       1       0                  1                   0           1   \n",
       "1    24.0       0       1                  2                   0           0   \n",
       "2    77.0       0       1                  2                   0           0   \n",
       "3    68.0       0       1                  7                   0           0   \n",
       "4    83.0       0       1                  2                   0           0   \n",
       "\n",
       "    DEPEND_QUIMICO  FUMANTE  ALCOOLISMO  NUM_DIAS_INT_PREVIA  ADM_PREVIA_DIAS  \\\n",
       "ID                                                                              \n",
       "0                0        0           0                    0                0   \n",
       "1                1        0           0                    0                0   \n",
       "2                1        0           0                    2                2   \n",
       "3                1        0           0                    2                2   \n",
       "4                1        0           0                    1                1   \n",
       "\n",
       "    NUM_DIAS_LIC_MEDICA  READMISSAO_30_DIAS  \n",
       "ID                                           \n",
       "0                     0                   1  \n",
       "1                     0                   0  \n",
       "2                     0                   0  \n",
       "3                     0                   0  \n",
       "4                     0                   0  "
      ]
     },
     "execution_count": 9,
     "metadata": {},
     "output_type": "execute_result"
    }
   ],
   "source": [
    "dataset.head()"
   ]
  },
  {
   "cell_type": "code",
   "execution_count": 10,
   "metadata": {},
   "outputs": [],
   "source": [
    "# Função para visualizar a distribuição de cada variável\n",
    "def cria_histograma(dataset, features, rows, cols):\n",
    "    fig = plt.figure(figsize = (20,20))\n",
    "    \n",
    "    for i, feature in enumerate(features):\n",
    "        ax = fig.add_subplot(rows, cols, i+1)\n",
    "        dataset[feature].hist(bins = 20, ax = ax, facecolor = 'midnightblue')\n",
    "        ax.set_title(feature + \" Distribuição\", color = 'DarkRed')\n",
    "        \n",
    "    fig.tight_layout()  \n",
    "    plt.show()"
   ]
  },
  {
   "cell_type": "code",
   "execution_count": 11,
   "metadata": {},
   "outputs": [
    {
     "data": {
      "image/png": "[encoded data removed]",
      "text/plain": [
       "<Figure size 1440x1440 with 13 Axes>"
      ]
     },
     "metadata": {
      "needs_background": "light"
     },
     "output_type": "display_data"
    }
   ],
   "source": [
    "# Executa a função\n",
    "cria_histograma(dataset, dataset.columns, 6, 3)"
   ]
  },
  {
   "cell_type": "markdown",
   "metadata": {},
   "source": [
    "### 2.1 - Checando Outliers"
   ]
  },
  {
   "cell_type": "code",
   "execution_count": 12,
   "metadata": {},
   "outputs": [
    {
     "data": {
      "text/html": [
       "<div>\n",
       "<style scoped>\n",
       "    .dataframe tbody tr th:only-of-type {\n",
       "        vertical-align: middle;\n",
       "    }\n",
       "\n",
       "    .dataframe tbody tr th {\n",
       "        vertical-align: top;\n",
       "    }\n",
       "\n",
       "    .dataframe thead th {\n",
       "        text-align: right;\n",
       "    }\n",
       "</style>\n",
       "<table border=\"1\" class=\"dataframe\">\n",
       "  <thead>\n",
       "    <tr style=\"text-align: right;\">\n",
       "      <th></th>\n",
       "      <th>IDADE</th>\n",
       "      <th>SEXO_F</th>\n",
       "      <th>SEXO_M</th>\n",
       "      <th>ADM_CORRENTE_DIAS</th>\n",
       "      <th>RECEB_MEDICAMENTOS</th>\n",
       "      <th>FEZ_EXAMES</th>\n",
       "      <th>DEPEND_QUIMICO</th>\n",
       "      <th>FUMANTE</th>\n",
       "      <th>ALCOOLISMO</th>\n",
       "      <th>NUM_DIAS_INT_PREVIA</th>\n",
       "      <th>ADM_PREVIA_DIAS</th>\n",
       "      <th>NUM_DIAS_LIC_MEDICA</th>\n",
       "      <th>READMISSAO_30_DIAS</th>\n",
       "    </tr>\n",
       "    <tr>\n",
       "      <th>ID</th>\n",
       "      <th></th>\n",
       "      <th></th>\n",
       "      <th></th>\n",
       "      <th></th>\n",
       "      <th></th>\n",
       "      <th></th>\n",
       "      <th></th>\n",
       "      <th></th>\n",
       "      <th></th>\n",
       "      <th></th>\n",
       "      <th></th>\n",
       "      <th></th>\n",
       "      <th></th>\n",
       "    </tr>\n",
       "  </thead>\n",
       "  <tbody>\n",
       "    <tr>\n",
       "      <th>0</th>\n",
       "      <td>62.0</td>\n",
       "      <td>1</td>\n",
       "      <td>0</td>\n",
       "      <td>1</td>\n",
       "      <td>0</td>\n",
       "      <td>1</td>\n",
       "      <td>0</td>\n",
       "      <td>0</td>\n",
       "      <td>0</td>\n",
       "      <td>0</td>\n",
       "      <td>0</td>\n",
       "      <td>0</td>\n",
       "      <td>1</td>\n",
       "    </tr>\n",
       "    <tr>\n",
       "      <th>1</th>\n",
       "      <td>24.0</td>\n",
       "      <td>0</td>\n",
       "      <td>1</td>\n",
       "      <td>2</td>\n",
       "      <td>0</td>\n",
       "      <td>0</td>\n",
       "      <td>1</td>\n",
       "      <td>0</td>\n",
       "      <td>0</td>\n",
       "      <td>0</td>\n",
       "      <td>0</td>\n",
       "      <td>0</td>\n",
       "      <td>0</td>\n",
       "    </tr>\n",
       "    <tr>\n",
       "      <th>2</th>\n",
       "      <td>77.0</td>\n",
       "      <td>0</td>\n",
       "      <td>1</td>\n",
       "      <td>2</td>\n",
       "      <td>0</td>\n",
       "      <td>0</td>\n",
       "      <td>1</td>\n",
       "      <td>0</td>\n",
       "      <td>0</td>\n",
       "      <td>2</td>\n",
       "      <td>2</td>\n",
       "      <td>0</td>\n",
       "      <td>0</td>\n",
       "    </tr>\n",
       "    <tr>\n",
       "      <th>3</th>\n",
       "      <td>68.0</td>\n",
       "      <td>0</td>\n",
       "      <td>1</td>\n",
       "      <td>7</td>\n",
       "      <td>0</td>\n",
       "      <td>0</td>\n",
       "      <td>1</td>\n",
       "      <td>0</td>\n",
       "      <td>0</td>\n",
       "      <td>2</td>\n",
       "      <td>2</td>\n",
       "      <td>0</td>\n",
       "      <td>0</td>\n",
       "    </tr>\n",
       "    <tr>\n",
       "      <th>4</th>\n",
       "      <td>83.0</td>\n",
       "      <td>0</td>\n",
       "      <td>1</td>\n",
       "      <td>2</td>\n",
       "      <td>0</td>\n",
       "      <td>0</td>\n",
       "      <td>1</td>\n",
       "      <td>0</td>\n",
       "      <td>0</td>\n",
       "      <td>1</td>\n",
       "      <td>1</td>\n",
       "      <td>0</td>\n",
       "      <td>0</td>\n",
       "    </tr>\n",
       "  </tbody>\n",
       "</table>\n",
       "</div>"
      ],
      "text/plain": [
       "    IDADE  SEXO_F  SEXO_M  ADM_CORRENTE_DIAS  RECEB_MEDICAMENTOS  FEZ_EXAMES  \\\n",
       "ID                                                                             \n",
       "0    62.0       1       0                  1                   0           1   \n",
       "1    24.0       0       1                  2                   0           0   \n",
       "2    77.0       0       1                  2                   0           0   \n",
       "3    68.0       0       1                  7                   0           0   \n",
       "4    83.0       0       1                  2                   0           0   \n",
       "\n",
       "    DEPEND_QUIMICO  FUMANTE  ALCOOLISMO  NUM_DIAS_INT_PREVIA  ADM_PREVIA_DIAS  \\\n",
       "ID                                                                              \n",
       "0                0        0           0                    0                0   \n",
       "1                1        0           0                    0                0   \n",
       "2                1        0           0                    2                2   \n",
       "3                1        0           0                    2                2   \n",
       "4                1        0           0                    1                1   \n",
       "\n",
       "    NUM_DIAS_LIC_MEDICA  READMISSAO_30_DIAS  \n",
       "ID                                           \n",
       "0                     0                   1  \n",
       "1                     0                   0  \n",
       "2                     0                   0  \n",
       "3                     0                   0  \n",
       "4                     0                   0  "
      ]
     },
     "execution_count": 12,
     "metadata": {},
     "output_type": "execute_result"
    }
   ],
   "source": [
    "dataset.head()"
   ]
  },
  {
   "cell_type": "code",
   "execution_count": 13,
   "metadata": {},
   "outputs": [
    {
     "data": {
      "text/plain": [
       "<AxesSubplot:xlabel='IDADE'>"
      ]
     },
     "execution_count": 13,
     "metadata": {},
     "output_type": "execute_result"
    },
    {
     "data": {
      "image/png": "[encoded data removed]",
      "text/plain": [
       "<Figure size 576x576 with 1 Axes>"
      ]
     },
     "metadata": {
      "needs_background": "light"
     },
     "output_type": "display_data"
    }
   ],
   "source": [
    "# Visualizando os outliers da variável IDADE\n",
    "sns.boxplot(dataset.IDADE)"
   ]
  },
  {
   "cell_type": "markdown",
   "metadata": {},
   "source": [
    "Na estatística descritiva, um gráfico de caixa (Boxplot) é um método para representar graficamente grupos de dados numéricos através de seus quartis. Os gráficos de caixa também podem ter linhas que se estendem verticalmente (ou horizontalmente) a partir das caixas (bigodes), indicando variabilidade fora dos quartis superior e inferior. Os outliers podem ser plotados como pontos individuais.\n",
    "\n",
    "A definição acima sugere que, se houver um outlier, ele será plotado como ponto no boxplot.\n",
    "\n",
    "O gráfico acima mostra dois pontos bem acima de 100 anos, estes são outliers, pois não estão incluídos na caixa, ou seja, nenhum lugar perto dos quartis. O mesmo raciocínio para os pontos abaixo de 20 anos."
   ]
  },
  {
   "cell_type": "code",
   "execution_count": 14,
   "metadata": {},
   "outputs": [
    {
     "data": {
      "text/html": [
       "<div>\n",
       "<style scoped>\n",
       "    .dataframe tbody tr th:only-of-type {\n",
       "        vertical-align: middle;\n",
       "    }\n",
       "\n",
       "    .dataframe tbody tr th {\n",
       "        vertical-align: top;\n",
       "    }\n",
       "\n",
       "    .dataframe thead th {\n",
       "        text-align: right;\n",
       "    }\n",
       "</style>\n",
       "<table border=\"1\" class=\"dataframe\">\n",
       "  <thead>\n",
       "    <tr style=\"text-align: right;\">\n",
       "      <th></th>\n",
       "      <th>IDADE</th>\n",
       "      <th>SEXO_F</th>\n",
       "      <th>SEXO_M</th>\n",
       "      <th>ADM_CORRENTE_DIAS</th>\n",
       "      <th>RECEB_MEDICAMENTOS</th>\n",
       "      <th>FEZ_EXAMES</th>\n",
       "      <th>DEPEND_QUIMICO</th>\n",
       "      <th>FUMANTE</th>\n",
       "      <th>ALCOOLISMO</th>\n",
       "      <th>NUM_DIAS_INT_PREVIA</th>\n",
       "      <th>ADM_PREVIA_DIAS</th>\n",
       "      <th>NUM_DIAS_LIC_MEDICA</th>\n",
       "      <th>READMISSAO_30_DIAS</th>\n",
       "    </tr>\n",
       "    <tr>\n",
       "      <th>ID</th>\n",
       "      <th></th>\n",
       "      <th></th>\n",
       "      <th></th>\n",
       "      <th></th>\n",
       "      <th></th>\n",
       "      <th></th>\n",
       "      <th></th>\n",
       "      <th></th>\n",
       "      <th></th>\n",
       "      <th></th>\n",
       "      <th></th>\n",
       "      <th></th>\n",
       "      <th></th>\n",
       "    </tr>\n",
       "  </thead>\n",
       "  <tbody>\n",
       "    <tr>\n",
       "      <th>5204</th>\n",
       "      <td>0.0</td>\n",
       "      <td>0</td>\n",
       "      <td>1</td>\n",
       "      <td>3</td>\n",
       "      <td>1</td>\n",
       "      <td>0</td>\n",
       "      <td>0</td>\n",
       "      <td>0</td>\n",
       "      <td>0</td>\n",
       "      <td>0</td>\n",
       "      <td>0</td>\n",
       "      <td>0</td>\n",
       "      <td>0</td>\n",
       "    </tr>\n",
       "    <tr>\n",
       "      <th>9588</th>\n",
       "      <td>0.0</td>\n",
       "      <td>1</td>\n",
       "      <td>0</td>\n",
       "      <td>1</td>\n",
       "      <td>0</td>\n",
       "      <td>1</td>\n",
       "      <td>0</td>\n",
       "      <td>0</td>\n",
       "      <td>0</td>\n",
       "      <td>0</td>\n",
       "      <td>0</td>\n",
       "      <td>0</td>\n",
       "      <td>0</td>\n",
       "    </tr>\n",
       "    <tr>\n",
       "      <th>12103</th>\n",
       "      <td>2.0</td>\n",
       "      <td>1</td>\n",
       "      <td>0</td>\n",
       "      <td>1</td>\n",
       "      <td>1</td>\n",
       "      <td>0</td>\n",
       "      <td>0</td>\n",
       "      <td>0</td>\n",
       "      <td>0</td>\n",
       "      <td>1</td>\n",
       "      <td>3</td>\n",
       "      <td>0</td>\n",
       "      <td>0</td>\n",
       "    </tr>\n",
       "    <tr>\n",
       "      <th>19961</th>\n",
       "      <td>0.0</td>\n",
       "      <td>0</td>\n",
       "      <td>1</td>\n",
       "      <td>13</td>\n",
       "      <td>0</td>\n",
       "      <td>0</td>\n",
       "      <td>1</td>\n",
       "      <td>0</td>\n",
       "      <td>0</td>\n",
       "      <td>0</td>\n",
       "      <td>0</td>\n",
       "      <td>0</td>\n",
       "      <td>0</td>\n",
       "    </tr>\n",
       "    <tr>\n",
       "      <th>21779</th>\n",
       "      <td>0.0</td>\n",
       "      <td>0</td>\n",
       "      <td>1</td>\n",
       "      <td>2</td>\n",
       "      <td>0</td>\n",
       "      <td>0</td>\n",
       "      <td>1</td>\n",
       "      <td>0</td>\n",
       "      <td>0</td>\n",
       "      <td>0</td>\n",
       "      <td>0</td>\n",
       "      <td>0</td>\n",
       "      <td>0</td>\n",
       "    </tr>\n",
       "  </tbody>\n",
       "</table>\n",
       "</div>"
      ],
      "text/plain": [
       "       IDADE  SEXO_F  SEXO_M  ADM_CORRENTE_DIAS  RECEB_MEDICAMENTOS  \\\n",
       "ID                                                                    \n",
       "5204     0.0       0       1                  3                   1   \n",
       "9588     0.0       1       0                  1                   0   \n",
       "12103    2.0       1       0                  1                   1   \n",
       "19961    0.0       0       1                 13                   0   \n",
       "21779    0.0       0       1                  2                   0   \n",
       "\n",
       "       FEZ_EXAMES  DEPEND_QUIMICO  FUMANTE  ALCOOLISMO  NUM_DIAS_INT_PREVIA  \\\n",
       "ID                                                                            \n",
       "5204            0               0        0           0                    0   \n",
       "9588            1               0        0           0                    0   \n",
       "12103           0               0        0           0                    1   \n",
       "19961           0               1        0           0                    0   \n",
       "21779           0               1        0           0                    0   \n",
       "\n",
       "       ADM_PREVIA_DIAS  NUM_DIAS_LIC_MEDICA  READMISSAO_30_DIAS  \n",
       "ID                                                               \n",
       "5204                 0                    0                   0  \n",
       "9588                 0                    0                   0  \n",
       "12103                3                    0                   0  \n",
       "19961                0                    0                   0  \n",
       "21779                0                    0                   0  "
      ]
     },
     "execution_count": 14,
     "metadata": {},
     "output_type": "execute_result"
    }
   ],
   "source": [
    "# Outliers para a variável IDADE\n",
    "outliers_idade = dataset[(dataset['IDADE'] > 110) | (dataset['IDADE'] < 5)] \n",
    "outliers_idade.head()"
   ]
  },
  {
   "cell_type": "code",
   "execution_count": 15,
   "metadata": {},
   "outputs": [
    {
     "data": {
      "text/plain": [
       "<AxesSubplot:>"
      ]
     },
     "execution_count": 15,
     "metadata": {},
     "output_type": "execute_result"
    },
    {
     "data": {
      "image/png": "[encoded data removed]",
      "text/plain": [
       "<Figure size 576x576 with 1 Axes>"
      ]
     },
     "metadata": {
      "needs_background": "light"
     },
     "output_type": "display_data"
    }
   ],
   "source": [
    "# Histograma da variável IDADE antes da limpeza\n",
    "dataset.IDADE.hist()"
   ]
  },
  {
   "cell_type": "code",
   "execution_count": 16,
   "metadata": {},
   "outputs": [
    {
     "data": {
      "text/plain": [
       "<AxesSubplot:xlabel='IDADE'>"
      ]
     },
     "execution_count": 16,
     "metadata": {},
     "output_type": "execute_result"
    },
    {
     "data": {
      "image/png": "[encoded data removed]",
      "text/plain": [
       "<Figure size 576x576 with 1 Axes>"
      ]
     },
     "metadata": {
      "needs_background": "light"
     },
     "output_type": "display_data"
    }
   ],
   "source": [
    "# Removendo os outliers\n",
    "dataset = dataset.drop(dataset[(dataset['IDADE'] > 110) | (dataset['IDADE'] < 5)].index)\n",
    "sns.boxplot(dataset.IDADE)"
   ]
  },
  {
   "cell_type": "code",
   "execution_count": 17,
   "metadata": {},
   "outputs": [
    {
     "data": {
      "text/plain": [
       "<AxesSubplot:>"
      ]
     },
     "execution_count": 17,
     "metadata": {},
     "output_type": "execute_result"
    },
    {
     "data": {
      "image/png": "[encoded data removed]",
      "text/plain": [
       "<Figure size 576x576 with 1 Axes>"
      ]
     },
     "metadata": {
      "needs_background": "light"
     },
     "output_type": "display_data"
    }
   ],
   "source": [
    "# Histograma da variável idade após a limpeza\n",
    "dataset.IDADE.hist()"
   ]
  },
  {
   "cell_type": "code",
   "execution_count": 18,
   "metadata": {},
   "outputs": [
    {
     "data": {
      "text/plain": [
       "<AxesSubplot:xlabel='ADM_CORRENTE_DIAS'>"
      ]
     },
     "execution_count": 18,
     "metadata": {},
     "output_type": "execute_result"
    },
    {
     "data": {
      "image/png": "[encoded data removed]",
      "text/plain": [
       "<Figure size 576x576 with 1 Axes>"
      ]
     },
     "metadata": {
      "needs_background": "light"
     },
     "output_type": "display_data"
    }
   ],
   "source": [
    "# Visualizando os outliers da variável ADM_CORRENTE_DIAS\n",
    "sns.boxplot(dataset.ADM_CORRENTE_DIAS)"
   ]
  },
  {
   "cell_type": "code",
   "execution_count": 19,
   "metadata": {},
   "outputs": [
    {
     "data": {
      "text/plain": [
       "<AxesSubplot:xlabel='ADM_CORRENTE_DIAS'>"
      ]
     },
     "execution_count": 19,
     "metadata": {},
     "output_type": "execute_result"
    },
    {
     "data": {
      "image/png": "[encoded data removed]",
      "text/plain": [
       "<Figure size 576x576 with 1 Axes>"
      ]
     },
     "metadata": {
      "needs_background": "light"
     },
     "output_type": "display_data"
    }
   ],
   "source": [
    "# Removendo os outliers\n",
    "dataset = dataset.drop(dataset[(dataset['ADM_CORRENTE_DIAS'] > 180)].index)\n",
    "sns.boxplot(dataset.ADM_CORRENTE_DIAS)"
   ]
  },
  {
   "cell_type": "code",
   "execution_count": 20,
   "metadata": {},
   "outputs": [
    {
     "data": {
      "text/plain": [
       "<AxesSubplot:xlabel='NUM_DIAS_INT_PREVIA'>"
      ]
     },
     "execution_count": 20,
     "metadata": {},
     "output_type": "execute_result"
    },
    {
     "data": {
      "image/png": "[encoded data removed]",
      "text/plain": [
       "<Figure size 576x576 with 1 Axes>"
      ]
     },
     "metadata": {
      "needs_background": "light"
     },
     "output_type": "display_data"
    }
   ],
   "source": [
    "# Visualizando os outliers da variável NUM_DIAS_INT_PREVIA\n",
    "sns.boxplot(dataset.NUM_DIAS_INT_PREVIA)"
   ]
  },
  {
   "cell_type": "code",
   "execution_count": 21,
   "metadata": {},
   "outputs": [
    {
     "data": {
      "text/plain": [
       "<AxesSubplot:xlabel='ADM_PREVIA_DIAS'>"
      ]
     },
     "execution_count": 21,
     "metadata": {},
     "output_type": "execute_result"
    },
    {
     "data": {
      "image/png": "[encoded data removed]",
      "text/plain": [
       "<Figure size 576x576 with 1 Axes>"
      ]
     },
     "metadata": {
      "needs_background": "light"
     },
     "output_type": "display_data"
    }
   ],
   "source": [
    "# Visualizando os outliers da variável ADM_PREVIA_DIAS\n",
    "sns.boxplot(dataset.ADM_PREVIA_DIAS)"
   ]
  },
  {
   "cell_type": "code",
   "execution_count": 22,
   "metadata": {},
   "outputs": [
    {
     "data": {
      "text/plain": [
       "<AxesSubplot:xlabel='ADM_PREVIA_DIAS'>"
      ]
     },
     "execution_count": 22,
     "metadata": {},
     "output_type": "execute_result"
    },
    {
     "data": {
      "image/png": "[encoded data removed]",
      "text/plain": [
       "<Figure size 576x576 with 1 Axes>"
      ]
     },
     "metadata": {
      "needs_background": "light"
     },
     "output_type": "display_data"
    }
   ],
   "source": [
    "# Removendo os outliers\n",
    "dataset = dataset.drop(dataset[(dataset['ADM_PREVIA_DIAS'] > 400)].index)\n",
    "sns.boxplot(dataset.ADM_PREVIA_DIAS)"
   ]
  },
  {
   "cell_type": "code",
   "execution_count": 23,
   "metadata": {},
   "outputs": [
    {
     "data": {
      "text/plain": [
       "<AxesSubplot:xlabel='NUM_DIAS_LIC_MEDICA'>"
      ]
     },
     "execution_count": 23,
     "metadata": {},
     "output_type": "execute_result"
    },
    {
     "data": {
      "image/png": "[encoded data removed]",
      "text/plain": [
       "<Figure size 576x576 with 1 Axes>"
      ]
     },
     "metadata": {
      "needs_background": "light"
     },
     "output_type": "display_data"
    }
   ],
   "source": [
    "# Visualizando os outliers da variável NUM_DIAS_LIC_MEDICA\n",
    "sns.boxplot(dataset.NUM_DIAS_LIC_MEDICA)"
   ]
  },
  {
   "cell_type": "code",
   "execution_count": 24,
   "metadata": {},
   "outputs": [
    {
     "data": {
      "text/plain": [
       "<AxesSubplot:xlabel='NUM_DIAS_LIC_MEDICA'>"
      ]
     },
     "execution_count": 24,
     "metadata": {},
     "output_type": "execute_result"
    },
    {
     "data": {
      "image/png": "[encoded data removed]",
      "text/plain": [
       "<Figure size 576x576 with 1 Axes>"
      ]
     },
     "metadata": {
      "needs_background": "light"
     },
     "output_type": "display_data"
    }
   ],
   "source": [
    "# Removendo os outliers\n",
    "dataset = dataset.drop(dataset[(dataset['NUM_DIAS_LIC_MEDICA'] > 150)].index)\n",
    "sns.boxplot(dataset.NUM_DIAS_LIC_MEDICA)"
   ]
  },
  {
   "cell_type": "markdown",
   "metadata": {},
   "source": [
    "### 2.2 - Correlação e Associação"
   ]
  },
  {
   "cell_type": "code",
   "execution_count": 25,
   "metadata": {},
   "outputs": [],
   "source": [
    "# Criando uma cópia do dataset original\n",
    "dataset_teste = dataset.copy()"
   ]
  },
  {
   "cell_type": "code",
   "execution_count": 26,
   "metadata": {},
   "outputs": [
    {
     "data": {
      "text/html": [
       "<div>\n",
       "<style scoped>\n",
       "    .dataframe tbody tr th:only-of-type {\n",
       "        vertical-align: middle;\n",
       "    }\n",
       "\n",
       "    .dataframe tbody tr th {\n",
       "        vertical-align: top;\n",
       "    }\n",
       "\n",
       "    .dataframe thead th {\n",
       "        text-align: right;\n",
       "    }\n",
       "</style>\n",
       "<table border=\"1\" class=\"dataframe\">\n",
       "  <thead>\n",
       "    <tr style=\"text-align: right;\">\n",
       "      <th></th>\n",
       "      <th>IDADE</th>\n",
       "      <th>SEXO_F</th>\n",
       "      <th>SEXO_M</th>\n",
       "      <th>ADM_CORRENTE_DIAS</th>\n",
       "      <th>RECEB_MEDICAMENTOS</th>\n",
       "      <th>FEZ_EXAMES</th>\n",
       "      <th>DEPEND_QUIMICO</th>\n",
       "      <th>FUMANTE</th>\n",
       "      <th>ALCOOLISMO</th>\n",
       "      <th>NUM_DIAS_INT_PREVIA</th>\n",
       "      <th>ADM_PREVIA_DIAS</th>\n",
       "      <th>NUM_DIAS_LIC_MEDICA</th>\n",
       "      <th>READMISSAO_30_DIAS</th>\n",
       "    </tr>\n",
       "    <tr>\n",
       "      <th>ID</th>\n",
       "      <th></th>\n",
       "      <th></th>\n",
       "      <th></th>\n",
       "      <th></th>\n",
       "      <th></th>\n",
       "      <th></th>\n",
       "      <th></th>\n",
       "      <th></th>\n",
       "      <th></th>\n",
       "      <th></th>\n",
       "      <th></th>\n",
       "      <th></th>\n",
       "      <th></th>\n",
       "    </tr>\n",
       "  </thead>\n",
       "  <tbody>\n",
       "    <tr>\n",
       "      <th>0</th>\n",
       "      <td>62.0</td>\n",
       "      <td>1</td>\n",
       "      <td>0</td>\n",
       "      <td>1</td>\n",
       "      <td>0</td>\n",
       "      <td>1</td>\n",
       "      <td>0</td>\n",
       "      <td>0</td>\n",
       "      <td>0</td>\n",
       "      <td>0</td>\n",
       "      <td>0</td>\n",
       "      <td>0</td>\n",
       "      <td>1</td>\n",
       "    </tr>\n",
       "    <tr>\n",
       "      <th>1</th>\n",
       "      <td>24.0</td>\n",
       "      <td>0</td>\n",
       "      <td>1</td>\n",
       "      <td>2</td>\n",
       "      <td>0</td>\n",
       "      <td>0</td>\n",
       "      <td>1</td>\n",
       "      <td>0</td>\n",
       "      <td>0</td>\n",
       "      <td>0</td>\n",
       "      <td>0</td>\n",
       "      <td>0</td>\n",
       "      <td>0</td>\n",
       "    </tr>\n",
       "    <tr>\n",
       "      <th>2</th>\n",
       "      <td>77.0</td>\n",
       "      <td>0</td>\n",
       "      <td>1</td>\n",
       "      <td>2</td>\n",
       "      <td>0</td>\n",
       "      <td>0</td>\n",
       "      <td>1</td>\n",
       "      <td>0</td>\n",
       "      <td>0</td>\n",
       "      <td>2</td>\n",
       "      <td>2</td>\n",
       "      <td>0</td>\n",
       "      <td>0</td>\n",
       "    </tr>\n",
       "    <tr>\n",
       "      <th>3</th>\n",
       "      <td>68.0</td>\n",
       "      <td>0</td>\n",
       "      <td>1</td>\n",
       "      <td>7</td>\n",
       "      <td>0</td>\n",
       "      <td>0</td>\n",
       "      <td>1</td>\n",
       "      <td>0</td>\n",
       "      <td>0</td>\n",
       "      <td>2</td>\n",
       "      <td>2</td>\n",
       "      <td>0</td>\n",
       "      <td>0</td>\n",
       "    </tr>\n",
       "    <tr>\n",
       "      <th>4</th>\n",
       "      <td>83.0</td>\n",
       "      <td>0</td>\n",
       "      <td>1</td>\n",
       "      <td>2</td>\n",
       "      <td>0</td>\n",
       "      <td>0</td>\n",
       "      <td>1</td>\n",
       "      <td>0</td>\n",
       "      <td>0</td>\n",
       "      <td>1</td>\n",
       "      <td>1</td>\n",
       "      <td>0</td>\n",
       "      <td>0</td>\n",
       "    </tr>\n",
       "  </tbody>\n",
       "</table>\n",
       "</div>"
      ],
      "text/plain": [
       "    IDADE  SEXO_F  SEXO_M  ADM_CORRENTE_DIAS  RECEB_MEDICAMENTOS  FEZ_EXAMES  \\\n",
       "ID                                                                             \n",
       "0    62.0       1       0                  1                   0           1   \n",
       "1    24.0       0       1                  2                   0           0   \n",
       "2    77.0       0       1                  2                   0           0   \n",
       "3    68.0       0       1                  7                   0           0   \n",
       "4    83.0       0       1                  2                   0           0   \n",
       "\n",
       "    DEPEND_QUIMICO  FUMANTE  ALCOOLISMO  NUM_DIAS_INT_PREVIA  ADM_PREVIA_DIAS  \\\n",
       "ID                                                                              \n",
       "0                0        0           0                    0                0   \n",
       "1                1        0           0                    0                0   \n",
       "2                1        0           0                    2                2   \n",
       "3                1        0           0                    2                2   \n",
       "4                1        0           0                    1                1   \n",
       "\n",
       "    NUM_DIAS_LIC_MEDICA  READMISSAO_30_DIAS  \n",
       "ID                                           \n",
       "0                     0                   1  \n",
       "1                     0                   0  \n",
       "2                     0                   0  \n",
       "3                     0                   0  \n",
       "4                     0                   0  "
      ]
     },
     "execution_count": 26,
     "metadata": {},
     "output_type": "execute_result"
    }
   ],
   "source": [
    "# Cópia do dataset\n",
    "dataset_teste.head()"
   ]
  },
  {
   "cell_type": "code",
   "execution_count": 27,
   "metadata": {},
   "outputs": [
    {
     "data": {
      "text/plain": [
       "IDADE                  float64\n",
       "SEXO_F                   int64\n",
       "SEXO_M                   int64\n",
       "ADM_CORRENTE_DIAS        int64\n",
       "RECEB_MEDICAMENTOS       int64\n",
       "FEZ_EXAMES               int64\n",
       "DEPEND_QUIMICO           int64\n",
       "FUMANTE                  int64\n",
       "ALCOOLISMO               int64\n",
       "NUM_DIAS_INT_PREVIA      int64\n",
       "ADM_PREVIA_DIAS          int64\n",
       "NUM_DIAS_LIC_MEDICA      int64\n",
       "READMISSAO_30_DIAS       int64\n",
       "dtype: object"
      ]
     },
     "execution_count": 27,
     "metadata": {},
     "output_type": "execute_result"
    }
   ],
   "source": [
    "dataset_teste.dtypes"
   ]
  },
  {
   "cell_type": "code",
   "execution_count": 28,
   "metadata": {},
   "outputs": [],
   "source": [
    "# Convertendo as variáveis categóricas para o tipo categórico em Python\n",
    "# Como queremos apenas avaliar a associação com a variável resposta estamos trabalhando com uma cópia do dataset original.\n",
    "dataset_teste['SEXO_F'] = dataset_teste['SEXO_F'].astype('category')\n",
    "dataset_teste['SEXO_M'] = dataset_teste['SEXO_M'].astype('category')\n",
    "dataset_teste['RECEB_MEDICAMENTOS'] = dataset_teste['RECEB_MEDICAMENTOS'].astype('category')\n",
    "dataset_teste['FEZ_EXAMES'] = dataset_teste['FEZ_EXAMES'].astype('category')\n",
    "dataset_teste['DEPEND_QUIMICO'] = dataset_teste['DEPEND_QUIMICO'].astype('category')\n",
    "dataset_teste['FUMANTE'] = dataset_teste['FUMANTE'].astype('category')\n",
    "dataset_teste['ALCOOLISMO'] = dataset_teste['ALCOOLISMO'].astype('category')\n",
    "dataset_teste['READMISSAO_30_DIAS'] = dataset_teste['READMISSAO_30_DIAS'].astype('category')"
   ]
  },
  {
   "cell_type": "code",
   "execution_count": 29,
   "metadata": {},
   "outputs": [
    {
     "data": {
      "text/plain": [
       "IDADE                   float64\n",
       "SEXO_F                 category\n",
       "SEXO_M                 category\n",
       "ADM_CORRENTE_DIAS         int64\n",
       "RECEB_MEDICAMENTOS     category\n",
       "FEZ_EXAMES             category\n",
       "DEPEND_QUIMICO         category\n",
       "FUMANTE                category\n",
       "ALCOOLISMO             category\n",
       "NUM_DIAS_INT_PREVIA       int64\n",
       "ADM_PREVIA_DIAS           int64\n",
       "NUM_DIAS_LIC_MEDICA       int64\n",
       "READMISSAO_30_DIAS     category\n",
       "dtype: object"
      ]
     },
     "execution_count": 29,
     "metadata": {},
     "output_type": "execute_result"
    }
   ],
   "source": [
    "# Visualizando os tipos de dados\n",
    "dataset_teste.dtypes"
   ]
  },
  {
   "cell_type": "code",
   "execution_count": 30,
   "metadata": {},
   "outputs": [
    {
     "data": {
      "text/plain": [
       "<AxesSubplot:>"
      ]
     },
     "execution_count": 30,
     "metadata": {},
     "output_type": "execute_result"
    },
    {
     "data": {
      "image/png": "[encoded data removed]",
      "text/plain": [
       "<Figure size 576x576 with 2 Axes>"
      ]
     },
     "metadata": {
      "needs_background": "light"
     },
     "output_type": "display_data"
    }
   ],
   "source": [
    "# Coeficiente de correlação é calculado para variáveis numéricas\n",
    "dataset_teste_corr = dataset_teste.corr()\n",
    "sns.heatmap(dataset_teste_corr)"
   ]
  },
  {
   "cell_type": "code",
   "execution_count": 31,
   "metadata": {},
   "outputs": [],
   "source": [
    "# Função para calcular a associação entre variáveis categóricas\n",
    "\n",
    "# Pacote stats do Scipy\n",
    "import scipy.stats as ss\n",
    "\n",
    "# Função\n",
    "def cramers_v(x, y):\n",
    "    confusion_matrix = pd.crosstab(x, y)\n",
    "    \n",
    "    # Teste qui-quadrado de independência de variáveis em uma tabela de contingência.\n",
    "    chi2 = ss.chi2_contingency(confusion_matrix)[0]\n",
    "    n = confusion_matrix.sum().sum()\n",
    "    phi2 = chi2/n\n",
    "    r,k = confusion_matrix.shape\n",
    "    phi2corr = max(0, phi2-((k-1)*(r-1))/(n-1))\n",
    "    rcorr = r-((r-1)**2)/(n-1)\n",
    "    kcorr = k-((k-1)**2)/(n-1)\n",
    "    return np.sqrt(phi2corr/min((kcorr-1),(rcorr-1)))"
   ]
  },
  {
   "cell_type": "code",
   "execution_count": 32,
   "metadata": {},
   "outputs": [],
   "source": [
    "# Coleta as variáveis categóricas do dataset\n",
    "from pandas.api.types import is_string_dtype\n",
    "from pandas.api.types import is_numeric_dtype\n",
    "\n",
    "categorical_vars = []\n",
    "\n",
    "for column in dataset_teste:\n",
    "    if is_string_dtype(dataset_teste[column]):\n",
    "        categorical_vars.append(column)"
   ]
  },
  {
   "cell_type": "code",
   "execution_count": 33,
   "metadata": {},
   "outputs": [
    {
     "data": {
      "text/plain": [
       "[]"
      ]
     },
     "execution_count": 33,
     "metadata": {},
     "output_type": "execute_result"
    }
   ],
   "source": [
    "categorical_vars"
   ]
  },
  {
   "cell_type": "code",
   "execution_count": 34,
   "metadata": {},
   "outputs": [
    {
     "name": "stdout",
     "output_type": "stream",
     "text": [
      "\n",
      "A Associação é um resultado no intervalo de [0,1], em que 0 significa nenhuma associação e 1 é associação completa.\n",
      "\n",
      "\n"
     ]
    }
   ],
   "source": [
    "y = 'READMISSAO_30_DIAS'\n",
    "\n",
    "print('\\nA Associação é um resultado no intervalo de [0,1], em que 0 significa nenhuma associação e 1 é associação completa.')\n",
    "print('\\n')\n",
    "\n",
    "for var in categorical_vars:\n",
    "    print('Associação da Variável ' + var + ' com a variável resposta:', \n",
    "          cramers_v(dataset_teste[var], dataset_teste[y]))"
   ]
  },
  {
   "cell_type": "markdown",
   "metadata": {},
   "source": [
    "### 2.3 - Pré-Processamento"
   ]
  },
  {
   "cell_type": "code",
   "execution_count": 35,
   "metadata": {},
   "outputs": [
    {
     "data": {
      "text/html": [
       "<div>\n",
       "<style scoped>\n",
       "    .dataframe tbody tr th:only-of-type {\n",
       "        vertical-align: middle;\n",
       "    }\n",
       "\n",
       "    .dataframe tbody tr th {\n",
       "        vertical-align: top;\n",
       "    }\n",
       "\n",
       "    .dataframe thead th {\n",
       "        text-align: right;\n",
       "    }\n",
       "</style>\n",
       "<table border=\"1\" class=\"dataframe\">\n",
       "  <thead>\n",
       "    <tr style=\"text-align: right;\">\n",
       "      <th></th>\n",
       "      <th>IDADE</th>\n",
       "      <th>SEXO_F</th>\n",
       "      <th>SEXO_M</th>\n",
       "      <th>ADM_CORRENTE_DIAS</th>\n",
       "      <th>RECEB_MEDICAMENTOS</th>\n",
       "      <th>FEZ_EXAMES</th>\n",
       "      <th>DEPEND_QUIMICO</th>\n",
       "      <th>FUMANTE</th>\n",
       "      <th>ALCOOLISMO</th>\n",
       "      <th>NUM_DIAS_INT_PREVIA</th>\n",
       "      <th>ADM_PREVIA_DIAS</th>\n",
       "      <th>NUM_DIAS_LIC_MEDICA</th>\n",
       "      <th>READMISSAO_30_DIAS</th>\n",
       "    </tr>\n",
       "    <tr>\n",
       "      <th>ID</th>\n",
       "      <th></th>\n",
       "      <th></th>\n",
       "      <th></th>\n",
       "      <th></th>\n",
       "      <th></th>\n",
       "      <th></th>\n",
       "      <th></th>\n",
       "      <th></th>\n",
       "      <th></th>\n",
       "      <th></th>\n",
       "      <th></th>\n",
       "      <th></th>\n",
       "      <th></th>\n",
       "    </tr>\n",
       "  </thead>\n",
       "  <tbody>\n",
       "    <tr>\n",
       "      <th>0</th>\n",
       "      <td>62.0</td>\n",
       "      <td>1</td>\n",
       "      <td>0</td>\n",
       "      <td>1</td>\n",
       "      <td>0</td>\n",
       "      <td>1</td>\n",
       "      <td>0</td>\n",
       "      <td>0</td>\n",
       "      <td>0</td>\n",
       "      <td>0</td>\n",
       "      <td>0</td>\n",
       "      <td>0</td>\n",
       "      <td>1</td>\n",
       "    </tr>\n",
       "    <tr>\n",
       "      <th>1</th>\n",
       "      <td>24.0</td>\n",
       "      <td>0</td>\n",
       "      <td>1</td>\n",
       "      <td>2</td>\n",
       "      <td>0</td>\n",
       "      <td>0</td>\n",
       "      <td>1</td>\n",
       "      <td>0</td>\n",
       "      <td>0</td>\n",
       "      <td>0</td>\n",
       "      <td>0</td>\n",
       "      <td>0</td>\n",
       "      <td>0</td>\n",
       "    </tr>\n",
       "    <tr>\n",
       "      <th>2</th>\n",
       "      <td>77.0</td>\n",
       "      <td>0</td>\n",
       "      <td>1</td>\n",
       "      <td>2</td>\n",
       "      <td>0</td>\n",
       "      <td>0</td>\n",
       "      <td>1</td>\n",
       "      <td>0</td>\n",
       "      <td>0</td>\n",
       "      <td>2</td>\n",
       "      <td>2</td>\n",
       "      <td>0</td>\n",
       "      <td>0</td>\n",
       "    </tr>\n",
       "    <tr>\n",
       "      <th>3</th>\n",
       "      <td>68.0</td>\n",
       "      <td>0</td>\n",
       "      <td>1</td>\n",
       "      <td>7</td>\n",
       "      <td>0</td>\n",
       "      <td>0</td>\n",
       "      <td>1</td>\n",
       "      <td>0</td>\n",
       "      <td>0</td>\n",
       "      <td>2</td>\n",
       "      <td>2</td>\n",
       "      <td>0</td>\n",
       "      <td>0</td>\n",
       "    </tr>\n",
       "    <tr>\n",
       "      <th>4</th>\n",
       "      <td>83.0</td>\n",
       "      <td>0</td>\n",
       "      <td>1</td>\n",
       "      <td>2</td>\n",
       "      <td>0</td>\n",
       "      <td>0</td>\n",
       "      <td>1</td>\n",
       "      <td>0</td>\n",
       "      <td>0</td>\n",
       "      <td>1</td>\n",
       "      <td>1</td>\n",
       "      <td>0</td>\n",
       "      <td>0</td>\n",
       "    </tr>\n",
       "  </tbody>\n",
       "</table>\n",
       "</div>"
      ],
      "text/plain": [
       "    IDADE  SEXO_F  SEXO_M  ADM_CORRENTE_DIAS  RECEB_MEDICAMENTOS  FEZ_EXAMES  \\\n",
       "ID                                                                             \n",
       "0    62.0       1       0                  1                   0           1   \n",
       "1    24.0       0       1                  2                   0           0   \n",
       "2    77.0       0       1                  2                   0           0   \n",
       "3    68.0       0       1                  7                   0           0   \n",
       "4    83.0       0       1                  2                   0           0   \n",
       "\n",
       "    DEPEND_QUIMICO  FUMANTE  ALCOOLISMO  NUM_DIAS_INT_PREVIA  ADM_PREVIA_DIAS  \\\n",
       "ID                                                                              \n",
       "0                0        0           0                    0                0   \n",
       "1                1        0           0                    0                0   \n",
       "2                1        0           0                    2                2   \n",
       "3                1        0           0                    2                2   \n",
       "4                1        0           0                    1                1   \n",
       "\n",
       "    NUM_DIAS_LIC_MEDICA  READMISSAO_30_DIAS  \n",
       "ID                                           \n",
       "0                     0                   1  \n",
       "1                     0                   0  \n",
       "2                     0                   0  \n",
       "3                     0                   0  \n",
       "4                     0                   0  "
      ]
     },
     "execution_count": 35,
     "metadata": {},
     "output_type": "execute_result"
    }
   ],
   "source": [
    "dataset.head()"
   ]
  },
  {
   "cell_type": "code",
   "execution_count": 36,
   "metadata": {},
   "outputs": [
    {
     "data": {
      "text/plain": [
       "0    94827\n",
       "1    22173\n",
       "Name: READMISSAO_30_DIAS, dtype: int64"
      ]
     },
     "execution_count": 36,
     "metadata": {},
     "output_type": "execute_result"
    }
   ],
   "source": [
    "# Verificando se a variável resposta está balanceada\n",
    "target_count = dataset.READMISSAO_30_DIAS.value_counts()\n",
    "target_count"
   ]
  },
  {
   "cell_type": "code",
   "execution_count": 37,
   "metadata": {},
   "outputs": [
    {
     "data": {
      "image/png": "[encoded data removed]",
      "text/plain": [
       "<Figure size 576x576 with 1 Axes>"
      ]
     },
     "metadata": {
      "needs_background": "light"
     },
     "output_type": "display_data"
    }
   ],
   "source": [
    "# Plot \n",
    "sns.countplot(dataset.READMISSAO_30_DIAS, palette = \"OrRd\")\n",
    "plt.box(False)\n",
    "plt.xlabel('Readmissão em 30 Dias Não (0) / Sim (1)', fontsize = 11)\n",
    "plt.ylabel('Total Pacientes', fontsize = 11)\n",
    "plt.title('Contagem de Classes\\n')\n",
    "plt.show()"
   ]
  },
  {
   "cell_type": "code",
   "execution_count": 38,
   "metadata": {},
   "outputs": [
    {
     "data": {
      "text/html": [
       "<div>\n",
       "<style scoped>\n",
       "    .dataframe tbody tr th:only-of-type {\n",
       "        vertical-align: middle;\n",
       "    }\n",
       "\n",
       "    .dataframe tbody tr th {\n",
       "        vertical-align: top;\n",
       "    }\n",
       "\n",
       "    .dataframe thead th {\n",
       "        text-align: right;\n",
       "    }\n",
       "</style>\n",
       "<table border=\"1\" class=\"dataframe\">\n",
       "  <thead>\n",
       "    <tr style=\"text-align: right;\">\n",
       "      <th></th>\n",
       "      <th>IDADE</th>\n",
       "      <th>SEXO_F</th>\n",
       "      <th>SEXO_M</th>\n",
       "      <th>ADM_CORRENTE_DIAS</th>\n",
       "      <th>RECEB_MEDICAMENTOS</th>\n",
       "      <th>FEZ_EXAMES</th>\n",
       "      <th>DEPEND_QUIMICO</th>\n",
       "      <th>FUMANTE</th>\n",
       "      <th>ALCOOLISMO</th>\n",
       "      <th>NUM_DIAS_INT_PREVIA</th>\n",
       "      <th>ADM_PREVIA_DIAS</th>\n",
       "      <th>NUM_DIAS_LIC_MEDICA</th>\n",
       "    </tr>\n",
       "    <tr>\n",
       "      <th>ID</th>\n",
       "      <th></th>\n",
       "      <th></th>\n",
       "      <th></th>\n",
       "      <th></th>\n",
       "      <th></th>\n",
       "      <th></th>\n",
       "      <th></th>\n",
       "      <th></th>\n",
       "      <th></th>\n",
       "      <th></th>\n",
       "      <th></th>\n",
       "      <th></th>\n",
       "    </tr>\n",
       "  </thead>\n",
       "  <tbody>\n",
       "    <tr>\n",
       "      <th>0</th>\n",
       "      <td>62.0</td>\n",
       "      <td>1</td>\n",
       "      <td>0</td>\n",
       "      <td>1</td>\n",
       "      <td>0</td>\n",
       "      <td>1</td>\n",
       "      <td>0</td>\n",
       "      <td>0</td>\n",
       "      <td>0</td>\n",
       "      <td>0</td>\n",
       "      <td>0</td>\n",
       "      <td>0</td>\n",
       "    </tr>\n",
       "    <tr>\n",
       "      <th>1</th>\n",
       "      <td>24.0</td>\n",
       "      <td>0</td>\n",
       "      <td>1</td>\n",
       "      <td>2</td>\n",
       "      <td>0</td>\n",
       "      <td>0</td>\n",
       "      <td>1</td>\n",
       "      <td>0</td>\n",
       "      <td>0</td>\n",
       "      <td>0</td>\n",
       "      <td>0</td>\n",
       "      <td>0</td>\n",
       "    </tr>\n",
       "    <tr>\n",
       "      <th>2</th>\n",
       "      <td>77.0</td>\n",
       "      <td>0</td>\n",
       "      <td>1</td>\n",
       "      <td>2</td>\n",
       "      <td>0</td>\n",
       "      <td>0</td>\n",
       "      <td>1</td>\n",
       "      <td>0</td>\n",
       "      <td>0</td>\n",
       "      <td>2</td>\n",
       "      <td>2</td>\n",
       "      <td>0</td>\n",
       "    </tr>\n",
       "    <tr>\n",
       "      <th>3</th>\n",
       "      <td>68.0</td>\n",
       "      <td>0</td>\n",
       "      <td>1</td>\n",
       "      <td>7</td>\n",
       "      <td>0</td>\n",
       "      <td>0</td>\n",
       "      <td>1</td>\n",
       "      <td>0</td>\n",
       "      <td>0</td>\n",
       "      <td>2</td>\n",
       "      <td>2</td>\n",
       "      <td>0</td>\n",
       "    </tr>\n",
       "    <tr>\n",
       "      <th>4</th>\n",
       "      <td>83.0</td>\n",
       "      <td>0</td>\n",
       "      <td>1</td>\n",
       "      <td>2</td>\n",
       "      <td>0</td>\n",
       "      <td>0</td>\n",
       "      <td>1</td>\n",
       "      <td>0</td>\n",
       "      <td>0</td>\n",
       "      <td>1</td>\n",
       "      <td>1</td>\n",
       "      <td>0</td>\n",
       "    </tr>\n",
       "    <tr>\n",
       "      <th>...</th>\n",
       "      <td>...</td>\n",
       "      <td>...</td>\n",
       "      <td>...</td>\n",
       "      <td>...</td>\n",
       "      <td>...</td>\n",
       "      <td>...</td>\n",
       "      <td>...</td>\n",
       "      <td>...</td>\n",
       "      <td>...</td>\n",
       "      <td>...</td>\n",
       "      <td>...</td>\n",
       "      <td>...</td>\n",
       "    </tr>\n",
       "    <tr>\n",
       "      <th>129995</th>\n",
       "      <td>79.0</td>\n",
       "      <td>0</td>\n",
       "      <td>1</td>\n",
       "      <td>1</td>\n",
       "      <td>1</td>\n",
       "      <td>0</td>\n",
       "      <td>0</td>\n",
       "      <td>0</td>\n",
       "      <td>0</td>\n",
       "      <td>1</td>\n",
       "      <td>1</td>\n",
       "      <td>0</td>\n",
       "    </tr>\n",
       "    <tr>\n",
       "      <th>129996</th>\n",
       "      <td>61.0</td>\n",
       "      <td>0</td>\n",
       "      <td>1</td>\n",
       "      <td>1</td>\n",
       "      <td>0</td>\n",
       "      <td>1</td>\n",
       "      <td>0</td>\n",
       "      <td>0</td>\n",
       "      <td>0</td>\n",
       "      <td>1</td>\n",
       "      <td>9</td>\n",
       "      <td>0</td>\n",
       "    </tr>\n",
       "    <tr>\n",
       "      <th>129997</th>\n",
       "      <td>52.0</td>\n",
       "      <td>0</td>\n",
       "      <td>1</td>\n",
       "      <td>4</td>\n",
       "      <td>1</td>\n",
       "      <td>0</td>\n",
       "      <td>0</td>\n",
       "      <td>0</td>\n",
       "      <td>0</td>\n",
       "      <td>0</td>\n",
       "      <td>0</td>\n",
       "      <td>0</td>\n",
       "    </tr>\n",
       "    <tr>\n",
       "      <th>129998</th>\n",
       "      <td>70.0</td>\n",
       "      <td>1</td>\n",
       "      <td>0</td>\n",
       "      <td>1</td>\n",
       "      <td>0</td>\n",
       "      <td>0</td>\n",
       "      <td>1</td>\n",
       "      <td>0</td>\n",
       "      <td>0</td>\n",
       "      <td>2</td>\n",
       "      <td>2</td>\n",
       "      <td>0</td>\n",
       "    </tr>\n",
       "    <tr>\n",
       "      <th>129999</th>\n",
       "      <td>77.0</td>\n",
       "      <td>0</td>\n",
       "      <td>1</td>\n",
       "      <td>4</td>\n",
       "      <td>0</td>\n",
       "      <td>0</td>\n",
       "      <td>1</td>\n",
       "      <td>0</td>\n",
       "      <td>0</td>\n",
       "      <td>0</td>\n",
       "      <td>0</td>\n",
       "      <td>0</td>\n",
       "    </tr>\n",
       "  </tbody>\n",
       "</table>\n",
       "<p>117000 rows × 12 columns</p>\n",
       "</div>"
      ],
      "text/plain": [
       "        IDADE  SEXO_F  SEXO_M  ADM_CORRENTE_DIAS  RECEB_MEDICAMENTOS  \\\n",
       "ID                                                                     \n",
       "0        62.0       1       0                  1                   0   \n",
       "1        24.0       0       1                  2                   0   \n",
       "2        77.0       0       1                  2                   0   \n",
       "3        68.0       0       1                  7                   0   \n",
       "4        83.0       0       1                  2                   0   \n",
       "...       ...     ...     ...                ...                 ...   \n",
       "129995   79.0       0       1                  1                   1   \n",
       "129996   61.0       0       1                  1                   0   \n",
       "129997   52.0       0       1                  4                   1   \n",
       "129998   70.0       1       0                  1                   0   \n",
       "129999   77.0       0       1                  4                   0   \n",
       "\n",
       "        FEZ_EXAMES  DEPEND_QUIMICO  FUMANTE  ALCOOLISMO  NUM_DIAS_INT_PREVIA  \\\n",
       "ID                                                                             \n",
       "0                1               0        0           0                    0   \n",
       "1                0               1        0           0                    0   \n",
       "2                0               1        0           0                    2   \n",
       "3                0               1        0           0                    2   \n",
       "4                0               1        0           0                    1   \n",
       "...            ...             ...      ...         ...                  ...   \n",
       "129995           0               0        0           0                    1   \n",
       "129996           1               0        0           0                    1   \n",
       "129997           0               0        0           0                    0   \n",
       "129998           0               1        0           0                    2   \n",
       "129999           0               1        0           0                    0   \n",
       "\n",
       "        ADM_PREVIA_DIAS  NUM_DIAS_LIC_MEDICA  \n",
       "ID                                            \n",
       "0                     0                    0  \n",
       "1                     0                    0  \n",
       "2                     2                    0  \n",
       "3                     2                    0  \n",
       "4                     1                    0  \n",
       "...                 ...                  ...  \n",
       "129995                1                    0  \n",
       "129996                9                    0  \n",
       "129997                0                    0  \n",
       "129998                2                    0  \n",
       "129999                0                    0  \n",
       "\n",
       "[117000 rows x 12 columns]"
      ]
     },
     "execution_count": 38,
     "metadata": {},
     "output_type": "execute_result"
    }
   ],
   "source": [
    "# Variáveis Explicativas\n",
    "dataset.iloc[:, 0:12]  "
   ]
  },
  {
   "cell_type": "code",
   "execution_count": 39,
   "metadata": {},
   "outputs": [
    {
     "data": {
      "text/plain": [
       "ID\n",
       "0         1\n",
       "1         0\n",
       "2         0\n",
       "3         0\n",
       "4         0\n",
       "         ..\n",
       "129995    0\n",
       "129996    1\n",
       "129997    0\n",
       "129998    0\n",
       "129999    0\n",
       "Name: READMISSAO_30_DIAS, Length: 117000, dtype: int64"
      ]
     },
     "execution_count": 39,
     "metadata": {},
     "output_type": "execute_result"
    }
   ],
   "source": [
    "# Variável Target\n",
    "dataset.iloc[:, -1] "
   ]
  },
  {
   "cell_type": "code",
   "execution_count": 40,
   "metadata": {},
   "outputs": [],
   "source": [
    "# Importa a função\n",
    "from imblearn.over_sampling import SMOTE\n",
    "\n",
    "# Seed para reproduzir o mesmo resultado\n",
    "seed = 100\n",
    "\n",
    "# Separa X e y\n",
    "X = dataset.iloc[:, 0:12]  \n",
    "y = dataset.iloc[:, -1] \n",
    "\n",
    "# Cria o balanceador SMOTE\n",
    "smote_bal = SMOTE(random_state = seed)\n",
    "\n",
    "# Aplica o balanceador\n",
    "X_res, y_res = smote_bal.fit_resample(X, y)"
   ]
  },
  {
   "cell_type": "code",
   "execution_count": 41,
   "metadata": {},
   "outputs": [
    {
     "data": {
      "image/png": "[encoded data removed]",
      "text/plain": [
       "<Figure size 576x576 with 1 Axes>"
      ]
     },
     "metadata": {
      "needs_background": "light"
     },
     "output_type": "display_data"
    }
   ],
   "source": [
    "# Plot\n",
    "sns.countplot(y_res, palette = \"OrRd\")\n",
    "plt.box(False)\n",
    "plt.xlabel('Readmissão em 30 Dias Não (0) / Sim (1)', fontsize = 11)\n",
    "plt.ylabel('Total Pacientes', fontsize = 11)\n",
    "plt.title('Contagem de Classes\\n')\n",
    "plt.show()"
   ]
  },
  {
   "cell_type": "code",
   "execution_count": 42,
   "metadata": {},
   "outputs": [],
   "source": [
    "# Split em X e Y\n",
    "X = X_res\n",
    "Y = y_res"
   ]
  },
  {
   "cell_type": "code",
   "execution_count": 43,
   "metadata": {},
   "outputs": [
    {
     "data": {
      "text/plain": [
       "(189654, 12)"
      ]
     },
     "execution_count": 43,
     "metadata": {},
     "output_type": "execute_result"
    }
   ],
   "source": [
    "X.shape"
   ]
  },
  {
   "cell_type": "code",
   "execution_count": 44,
   "metadata": {},
   "outputs": [
    {
     "data": {
      "text/plain": [
       "(189654,)"
      ]
     },
     "execution_count": 44,
     "metadata": {},
     "output_type": "execute_result"
    }
   ],
   "source": [
    "Y.shape"
   ]
  },
  {
   "cell_type": "code",
   "execution_count": 45,
   "metadata": {},
   "outputs": [],
   "source": [
    "# Divisão dos dados em treino e teste\n",
    "from sklearn.model_selection import train_test_split\n",
    "\n",
    "test_size = 0.1\n",
    "X_treino, X_teste, Y_treino, Y_teste = train_test_split(X, Y, test_size = test_size, random_state = 7)"
   ]
  },
  {
   "cell_type": "code",
   "execution_count": 46,
   "metadata": {},
   "outputs": [
    {
     "data": {
      "text/plain": [
       "(170688, 12)"
      ]
     },
     "execution_count": 46,
     "metadata": {},
     "output_type": "execute_result"
    }
   ],
   "source": [
    "X_treino.shape"
   ]
  },
  {
   "cell_type": "code",
   "execution_count": 47,
   "metadata": {},
   "outputs": [
    {
     "data": {
      "text/plain": [
       "(170688,)"
      ]
     },
     "execution_count": 47,
     "metadata": {},
     "output_type": "execute_result"
    }
   ],
   "source": [
    "Y_treino.shape"
   ]
  },
  {
   "cell_type": "code",
   "execution_count": 48,
   "metadata": {},
   "outputs": [
    {
     "data": {
      "text/plain": [
       "(18966, 12)"
      ]
     },
     "execution_count": 48,
     "metadata": {},
     "output_type": "execute_result"
    }
   ],
   "source": [
    "X_teste.shape"
   ]
  },
  {
   "cell_type": "code",
   "execution_count": 49,
   "metadata": {},
   "outputs": [
    {
     "data": {
      "text/plain": [
       "(18966,)"
      ]
     },
     "execution_count": 49,
     "metadata": {},
     "output_type": "execute_result"
    }
   ],
   "source": [
    "Y_teste.shape"
   ]
  },
  {
   "cell_type": "markdown",
   "metadata": {},
   "source": [
    "## 3.0 - Construção dos Modelos Preditivos"
   ]
  },
  {
   "cell_type": "code",
   "execution_count": 50,
   "metadata": {},
   "outputs": [],
   "source": [
    "# Imports\n",
    "import keras\n",
    "import tensorflow\n",
    "import sklearn\n",
    "import scikitplot as skplt\n",
    "import matplotlib.pyplot as plt\n",
    "from sklearn.linear_model import LogisticRegression\n",
    "from sklearn.ensemble import RandomForestClassifier\n",
    "from sklearn.naive_bayes import GaussianNB, BernoulliNB, MultinomialNB\n",
    "from sklearn.neighbors import KNeighborsClassifier\n",
    "from keras.models import Sequential\n",
    "from keras.layers import Dense, Dropout\n",
    "from sklearn.model_selection import cross_validate\n",
    "from sklearn.metrics import confusion_matrix, roc_auc_score\n",
    "from sklearn.metrics import classification_report, matthews_corrcoef, accuracy_score\n",
    "from sklearn.metrics import roc_curve, auc"
   ]
  },
  {
   "cell_type": "markdown",
   "metadata": {},
   "source": [
    "### Versão 1 - Regressão Logística"
   ]
  },
  {
   "cell_type": "code",
   "execution_count": 51,
   "metadata": {},
   "outputs": [
    {
     "name": "stderr",
     "output_type": "stream",
     "text": [
      "C:\\Users\\Usuario\\AppData\\Roaming\\Python\\Python38\\site-packages\\sklearn\\linear_model\\_logistic.py:763: ConvergenceWarning: lbfgs failed to converge (status=1):\n",
      "STOP: TOTAL NO. of ITERATIONS REACHED LIMIT.\n",
      "\n",
      "Increase the number of iterations (max_iter) or scale the data as shown in:\n",
      "    https://scikit-learn.org/stable/modules/preprocessing.html\n",
      "Please also refer to the documentation for alternative solver options:\n",
      "    https://scikit-learn.org/stable/modules/linear_model.html#logistic-regression\n",
      "  n_iter_i = _check_optimize_result(\n"
     ]
    },
    {
     "data": {
      "text/plain": [
       "LogisticRegression(max_iter=600)"
      ]
     },
     "execution_count": 51,
     "metadata": {},
     "output_type": "execute_result"
    }
   ],
   "source": [
    "# Cria e treina o modelo\n",
    "modelo_v1 = LogisticRegression(max_iter = 600)\n",
    "modelo_v1.fit(X_treino, Y_treino)"
   ]
  },
  {
   "cell_type": "code",
   "execution_count": 52,
   "metadata": {},
   "outputs": [
    {
     "data": {
      "text/plain": [
       "array([[0.73240115, 0.26759885],\n",
       "       [0.18351874, 0.81648126],\n",
       "       [0.00192981, 0.99807019],\n",
       "       ...,\n",
       "       [0.19827892, 0.80172108],\n",
       "       [0.00252933, 0.99747067],\n",
       "       [0.20013276, 0.79986724]])"
      ]
     },
     "execution_count": 52,
     "metadata": {},
     "output_type": "execute_result"
    }
   ],
   "source": [
    "# Previsões (probabilidades)\n",
    "previsoes_v1 = modelo_v1.predict_proba(X_teste)\n",
    "previsoes_v1"
   ]
  },
  {
   "cell_type": "code",
   "execution_count": 53,
   "metadata": {},
   "outputs": [
    {
     "data": {
      "text/plain": [
       "array([0, 1, 1, ..., 1, 1, 1], dtype=int64)"
      ]
     },
     "execution_count": 53,
     "metadata": {},
     "output_type": "execute_result"
    }
   ],
   "source": [
    "# Previsões (classes)\n",
    "previsoes_v1 = modelo_v1.predict(X_teste)\n",
    "previsoes_v1"
   ]
  },
  {
   "cell_type": "code",
   "execution_count": 54,
   "metadata": {},
   "outputs": [
    {
     "name": "stdout",
     "output_type": "stream",
     "text": [
      "[[7814 1688]\n",
      " [2671 6793]]\n"
     ]
    }
   ],
   "source": [
    "matriz_v1 = confusion_matrix(Y_teste, previsoes_v1)\n",
    "print(matriz_v1)"
   ]
  },
  {
   "cell_type": "code",
   "execution_count": 55,
   "metadata": {},
   "outputs": [
    {
     "name": "stdout",
     "output_type": "stream",
     "text": [
      "                    precision    recall  f1-score   support\n",
      "\n",
      "Não Readmitido (0)       0.75      0.82      0.78      9502\n",
      "    Readmitido (1)       0.80      0.72      0.76      9464\n",
      "\n",
      "          accuracy                           0.77     18966\n",
      "         macro avg       0.77      0.77      0.77     18966\n",
      "      weighted avg       0.77      0.77      0.77     18966\n",
      "\n"
     ]
    }
   ],
   "source": [
    "# Relatório de classificação\n",
    "classe_names = ['Não Readmitido (0)', 'Readmitido (1)']\n",
    "report = classification_report(Y_teste, previsoes_v1, target_names = classe_names)\n",
    "print(report)"
   ]
  },
  {
   "cell_type": "code",
   "execution_count": 56,
   "metadata": {},
   "outputs": [
    {
     "name": "stdout",
     "output_type": "stream",
     "text": [
      "0.7700629004028694\n"
     ]
    }
   ],
   "source": [
    "# Score AUC\n",
    "print(roc_auc_score(Y_teste, previsoes_v1))"
   ]
  },
  {
   "cell_type": "code",
   "execution_count": 57,
   "metadata": {},
   "outputs": [],
   "source": [
    "# Extrai as taxas de verdadeiros e falsos positivos\n",
    "taxa_falso_positivo, taxa_verdadeiro_positivo, thresholds = roc_curve(Y_teste, previsoes_v1)"
   ]
  },
  {
   "cell_type": "code",
   "execution_count": 58,
   "metadata": {},
   "outputs": [
    {
     "data": {
      "text/plain": [
       "array([0.        , 0.17764681, 1.        ])"
      ]
     },
     "execution_count": 58,
     "metadata": {},
     "output_type": "execute_result"
    }
   ],
   "source": [
    "taxa_falso_positivo"
   ]
  },
  {
   "cell_type": "code",
   "execution_count": 59,
   "metadata": {},
   "outputs": [
    {
     "data": {
      "text/plain": [
       "array([0.        , 0.71777261, 1.        ])"
      ]
     },
     "execution_count": 59,
     "metadata": {},
     "output_type": "execute_result"
    }
   ],
   "source": [
    "taxa_verdadeiro_positivo"
   ]
  },
  {
   "cell_type": "code",
   "execution_count": 60,
   "metadata": {},
   "outputs": [
    {
     "data": {
      "text/plain": [
       "array([2, 1, 0], dtype=int64)"
      ]
     },
     "execution_count": 60,
     "metadata": {},
     "output_type": "execute_result"
    }
   ],
   "source": [
    "thresholds"
   ]
  },
  {
   "cell_type": "code",
   "execution_count": 61,
   "metadata": {},
   "outputs": [
    {
     "name": "stdout",
     "output_type": "stream",
     "text": [
      "0.7700629004028694\n"
     ]
    }
   ],
   "source": [
    "# Score AUC\n",
    "print(auc(taxa_falso_positivo, taxa_verdadeiro_positivo))"
   ]
  },
  {
   "cell_type": "code",
   "execution_count": 62,
   "metadata": {},
   "outputs": [
    {
     "name": "stdout",
     "output_type": "stream",
     "text": [
      "0.7700629004028694\n"
     ]
    }
   ],
   "source": [
    "# Score AUCROC - Caso 1\n",
    "y_pred_class = modelo_v1.predict(X_teste)\n",
    "print(roc_auc_score(Y_teste, y_pred_class))"
   ]
  },
  {
   "cell_type": "code",
   "execution_count": 63,
   "metadata": {},
   "outputs": [
    {
     "name": "stdout",
     "output_type": "stream",
     "text": [
      "0.8353973739656713\n"
     ]
    }
   ],
   "source": [
    "# Score AUCROC - Caso 2\n",
    "# Por que o resultado é diferente?\n",
    "y_pred_probs = modelo_v1.predict_proba(X_teste)[:,1] # Usamos [:,1] para buscar as probabilidades da classe positiva.\n",
    "print(roc_auc_score(Y_teste, y_pred_probs))"
   ]
  },
  {
   "cell_type": "code",
   "execution_count": 64,
   "metadata": {},
   "outputs": [
    {
     "data": {
      "image/png": "[encoded data removed]",
      "text/plain": [
       "<Figure size 576x576 with 1 Axes>"
      ]
     },
     "metadata": {
      "needs_background": "light"
     },
     "output_type": "display_data"
    }
   ],
   "source": [
    "# Calcula a Curva ROC para cada classe\n",
    "y_probs_v1 = modelo_v1.predict_proba(X_teste)\n",
    "skplt.metrics.plot_roc_curve(Y_teste, y_probs_v1)\n",
    "plt.show()"
   ]
  },
  {
   "cell_type": "code",
   "execution_count": 65,
   "metadata": {},
   "outputs": [],
   "source": [
    "# Se as classes estiverem desbalanceadas, o ideal é usar a curva precision-recall \n",
    "from sklearn.metrics import precision_recall_curve\n",
    "\n",
    "y_probs = modelo_v1.predict_proba(X_teste)[:,1]\n",
    "precision, recall, thresholds = precision_recall_curve(Y_teste, y_probs)"
   ]
  },
  {
   "cell_type": "code",
   "execution_count": 66,
   "metadata": {},
   "outputs": [
    {
     "data": {
      "text/plain": [
       "array([0.4994986 , 0.49947218, 0.49949855, ..., 1.        , 1.        ,\n",
       "       1.        ])"
      ]
     },
     "execution_count": 66,
     "metadata": {},
     "output_type": "execute_result"
    }
   ],
   "source": [
    "precision"
   ]
  },
  {
   "cell_type": "code",
   "execution_count": 67,
   "metadata": {},
   "outputs": [
    {
     "data": {
      "text/plain": [
       "array([1.00000000e+00, 9.99894336e-01, 9.99894336e-01, ...,\n",
       "       2.11327134e-04, 1.05663567e-04, 0.00000000e+00])"
      ]
     },
     "execution_count": 67,
     "metadata": {},
     "output_type": "execute_result"
    }
   ],
   "source": [
    "recall"
   ]
  },
  {
   "cell_type": "code",
   "execution_count": 68,
   "metadata": {},
   "outputs": [
    {
     "data": {
      "image/png": "[encoded data removed]",
      "text/plain": [
       "<Figure size 576x576 with 1 Axes>"
      ]
     },
     "metadata": {
      "needs_background": "light"
     },
     "output_type": "display_data"
    }
   ],
   "source": [
    "# Plot da curva precision-recall \n",
    "plt.plot(recall, precision, marker = '.', label = 'Regressão Logística')\n",
    "plt.xlabel('Recall')\n",
    "plt.ylabel('Precision')\n",
    "plt.legend()\n",
    "plt.show()"
   ]
  },
  {
   "cell_type": "code",
   "execution_count": 69,
   "metadata": {},
   "outputs": [
    {
     "name": "stdout",
     "output_type": "stream",
     "text": [
      "0.5431653446688114\n"
     ]
    }
   ],
   "source": [
    "# Coeficiente de Correlação de Matthews\n",
    "print(matthews_corrcoef(Y_teste, previsoes_v1))"
   ]
  },
  {
   "cell_type": "markdown",
   "metadata": {},
   "source": [
    "### Versão 2 - RandomForest"
   ]
  },
  {
   "cell_type": "code",
   "execution_count": 70,
   "metadata": {},
   "outputs": [
    {
     "data": {
      "text/plain": [
       "RandomForestClassifier(n_estimators=150)"
      ]
     },
     "execution_count": 70,
     "metadata": {},
     "output_type": "execute_result"
    }
   ],
   "source": [
    "# Cria e treina o modelo\n",
    "modelo_v2 = RandomForestClassifier(n_estimators = 150)\n",
    "modelo_v2.fit(X_treino, Y_treino)"
   ]
  },
  {
   "cell_type": "code",
   "execution_count": 71,
   "metadata": {},
   "outputs": [
    {
     "name": "stdout",
     "output_type": "stream",
     "text": [
      "[[8112 1390]\n",
      " [1703 7761]]\n"
     ]
    }
   ],
   "source": [
    "# Previsões\n",
    "previsoes_v2 = modelo_v2.predict(X_teste)\n",
    "matriz_v2 = confusion_matrix(Y_teste, previsoes_v2)\n",
    "print(matriz_v2)"
   ]
  },
  {
   "cell_type": "code",
   "execution_count": 72,
   "metadata": {},
   "outputs": [
    {
     "name": "stdout",
     "output_type": "stream",
     "text": [
      "              precision    recall  f1-score   support\n",
      "\n",
      "           0       0.83      0.85      0.84      9502\n",
      "           1       0.85      0.82      0.83      9464\n",
      "\n",
      "    accuracy                           0.84     18966\n",
      "   macro avg       0.84      0.84      0.84     18966\n",
      "weighted avg       0.84      0.84      0.84     18966\n",
      "\n"
     ]
    }
   ],
   "source": [
    "# Relatório de classificação\n",
    "report = classification_report(Y_teste, previsoes_v2)\n",
    "print(report)"
   ]
  },
  {
   "cell_type": "code",
   "execution_count": 73,
   "metadata": {},
   "outputs": [
    {
     "name": "stdout",
     "output_type": "stream",
     "text": [
      "0.8368849762109075\n"
     ]
    }
   ],
   "source": [
    "# Score AUC\n",
    "print(roc_auc_score(Y_teste, previsoes_v2))"
   ]
  },
  {
   "cell_type": "code",
   "execution_count": 74,
   "metadata": {},
   "outputs": [
    {
     "data": {
      "image/png": "[encoded data removed]",
      "text/plain": [
       "<Figure size 576x576 with 1 Axes>"
      ]
     },
     "metadata": {
      "needs_background": "light"
     },
     "output_type": "display_data"
    }
   ],
   "source": [
    "# Calcula a Curva ROC para cada classe\n",
    "y_probs_v2 = modelo_v2.predict_proba(X_teste)\n",
    "skplt.metrics.plot_roc_curve(Y_teste, y_probs_v2)\n",
    "plt.show()"
   ]
  },
  {
   "cell_type": "code",
   "execution_count": 75,
   "metadata": {},
   "outputs": [
    {
     "name": "stdout",
     "output_type": "stream",
     "text": [
      "0.6741818995630635\n"
     ]
    }
   ],
   "source": [
    "# Coeficiente de Correlação Matthews\n",
    "print(matthews_corrcoef(Y_teste, previsoes_v2))"
   ]
  },
  {
   "cell_type": "code",
   "execution_count": 76,
   "metadata": {},
   "outputs": [
    {
     "data": {
      "text/html": [
       "<div>\n",
       "<style scoped>\n",
       "    .dataframe tbody tr th:only-of-type {\n",
       "        vertical-align: middle;\n",
       "    }\n",
       "\n",
       "    .dataframe tbody tr th {\n",
       "        vertical-align: top;\n",
       "    }\n",
       "\n",
       "    .dataframe thead th {\n",
       "        text-align: right;\n",
       "    }\n",
       "</style>\n",
       "<table border=\"1\" class=\"dataframe\">\n",
       "  <thead>\n",
       "    <tr style=\"text-align: right;\">\n",
       "      <th></th>\n",
       "      <th>IDADE</th>\n",
       "      <th>SEXO_F</th>\n",
       "      <th>SEXO_M</th>\n",
       "      <th>ADM_CORRENTE_DIAS</th>\n",
       "      <th>RECEB_MEDICAMENTOS</th>\n",
       "      <th>FEZ_EXAMES</th>\n",
       "      <th>DEPEND_QUIMICO</th>\n",
       "      <th>FUMANTE</th>\n",
       "      <th>ALCOOLISMO</th>\n",
       "      <th>NUM_DIAS_INT_PREVIA</th>\n",
       "      <th>ADM_PREVIA_DIAS</th>\n",
       "      <th>NUM_DIAS_LIC_MEDICA</th>\n",
       "    </tr>\n",
       "  </thead>\n",
       "  <tbody>\n",
       "    <tr>\n",
       "      <th>146799</th>\n",
       "      <td>76.00000</td>\n",
       "      <td>0</td>\n",
       "      <td>1</td>\n",
       "      <td>1</td>\n",
       "      <td>0</td>\n",
       "      <td>1</td>\n",
       "      <td>0</td>\n",
       "      <td>0</td>\n",
       "      <td>0</td>\n",
       "      <td>1</td>\n",
       "      <td>2</td>\n",
       "      <td>0</td>\n",
       "    </tr>\n",
       "    <tr>\n",
       "      <th>13873</th>\n",
       "      <td>54.00000</td>\n",
       "      <td>0</td>\n",
       "      <td>1</td>\n",
       "      <td>1</td>\n",
       "      <td>1</td>\n",
       "      <td>0</td>\n",
       "      <td>0</td>\n",
       "      <td>0</td>\n",
       "      <td>0</td>\n",
       "      <td>0</td>\n",
       "      <td>0</td>\n",
       "      <td>0</td>\n",
       "    </tr>\n",
       "    <tr>\n",
       "      <th>141112</th>\n",
       "      <td>53.00000</td>\n",
       "      <td>0</td>\n",
       "      <td>1</td>\n",
       "      <td>1</td>\n",
       "      <td>0</td>\n",
       "      <td>0</td>\n",
       "      <td>0</td>\n",
       "      <td>0</td>\n",
       "      <td>0</td>\n",
       "      <td>4</td>\n",
       "      <td>8</td>\n",
       "      <td>0</td>\n",
       "    </tr>\n",
       "    <tr>\n",
       "      <th>178346</th>\n",
       "      <td>42.94967</td>\n",
       "      <td>0</td>\n",
       "      <td>1</td>\n",
       "      <td>1</td>\n",
       "      <td>0</td>\n",
       "      <td>0</td>\n",
       "      <td>1</td>\n",
       "      <td>0</td>\n",
       "      <td>0</td>\n",
       "      <td>0</td>\n",
       "      <td>0</td>\n",
       "      <td>0</td>\n",
       "    </tr>\n",
       "    <tr>\n",
       "      <th>49564</th>\n",
       "      <td>73.00000</td>\n",
       "      <td>0</td>\n",
       "      <td>1</td>\n",
       "      <td>7</td>\n",
       "      <td>0</td>\n",
       "      <td>0</td>\n",
       "      <td>1</td>\n",
       "      <td>0</td>\n",
       "      <td>0</td>\n",
       "      <td>0</td>\n",
       "      <td>0</td>\n",
       "      <td>0</td>\n",
       "    </tr>\n",
       "  </tbody>\n",
       "</table>\n",
       "</div>"
      ],
      "text/plain": [
       "           IDADE  SEXO_F  SEXO_M  ADM_CORRENTE_DIAS  RECEB_MEDICAMENTOS  \\\n",
       "146799  76.00000       0       1                  1                   0   \n",
       "13873   54.00000       0       1                  1                   1   \n",
       "141112  53.00000       0       1                  1                   0   \n",
       "178346  42.94967       0       1                  1                   0   \n",
       "49564   73.00000       0       1                  7                   0   \n",
       "\n",
       "        FEZ_EXAMES  DEPEND_QUIMICO  FUMANTE  ALCOOLISMO  NUM_DIAS_INT_PREVIA  \\\n",
       "146799           1               0        0           0                    1   \n",
       "13873            0               0        0           0                    0   \n",
       "141112           0               0        0           0                    4   \n",
       "178346           0               1        0           0                    0   \n",
       "49564            0               1        0           0                    0   \n",
       "\n",
       "        ADM_PREVIA_DIAS  NUM_DIAS_LIC_MEDICA  \n",
       "146799                2                    0  \n",
       "13873                 0                    0  \n",
       "141112                8                    0  \n",
       "178346                0                    0  \n",
       "49564                 0                    0  "
      ]
     },
     "execution_count": 76,
     "metadata": {},
     "output_type": "execute_result"
    }
   ],
   "source": [
    "X_treino.head()"
   ]
  },
  {
   "cell_type": "markdown",
   "metadata": {},
   "source": [
    "### Versão 3 - Naive Bayes"
   ]
  },
  {
   "cell_type": "markdown",
   "metadata": {},
   "source": [
    "#### Modelo MultinomialNB"
   ]
  },
  {
   "cell_type": "code",
   "execution_count": 79,
   "metadata": {},
   "outputs": [
    {
     "data": {
      "text/plain": [
       "MultinomialNB()"
      ]
     },
     "execution_count": 79,
     "metadata": {},
     "output_type": "execute_result"
    }
   ],
   "source": [
    "# Cria e treina o modelo MultinomialNB (variáveis quantitativas discretas)\n",
    "modelo_v3 = MultinomialNB()\n",
    "modelo_v3.fit(X_treino, Y_treino)"
   ]
  },
  {
   "cell_type": "code",
   "execution_count": 80,
   "metadata": {},
   "outputs": [
    {
     "name": "stdout",
     "output_type": "stream",
     "text": [
      "[[8106 1396]\n",
      " [4972 4492]]\n"
     ]
    }
   ],
   "source": [
    "# Previsões\n",
    "previsoes_v3 = modelo_v3.predict(X_teste)\n",
    "matriz_v3 = confusion_matrix(Y_teste, previsoes_v3)\n",
    "print(matriz_v3)"
   ]
  },
  {
   "cell_type": "code",
   "execution_count": 81,
   "metadata": {},
   "outputs": [
    {
     "name": "stdout",
     "output_type": "stream",
     "text": [
      "              precision    recall  f1-score   support\n",
      "\n",
      "           0       0.62      0.85      0.72      9502\n",
      "           1       0.76      0.47      0.59      9464\n",
      "\n",
      "    accuracy                           0.66     18966\n",
      "   macro avg       0.69      0.66      0.65     18966\n",
      "weighted avg       0.69      0.66      0.65     18966\n",
      "\n"
     ]
    }
   ],
   "source": [
    "# Relatório de classificação\n",
    "report = classification_report(Y_teste, previsoes_v3)\n",
    "print(report)"
   ]
  },
  {
   "cell_type": "code",
   "execution_count": 82,
   "metadata": {},
   "outputs": [
    {
     "name": "stdout",
     "output_type": "stream",
     "text": [
      "0.6638621526135087\n"
     ]
    }
   ],
   "source": [
    "# Score AUC\n",
    "print(roc_auc_score(Y_teste, previsoes_v3))"
   ]
  },
  {
   "cell_type": "code",
   "execution_count": 83,
   "metadata": {},
   "outputs": [
    {
     "data": {
      "image/png": "[encoded data removed]",
      "text/plain": [
       "<Figure size 576x576 with 1 Axes>"
      ]
     },
     "metadata": {
      "needs_background": "light"
     },
     "output_type": "display_data"
    }
   ],
   "source": [
    "# Calcula a Curva ROC para cada classe\n",
    "y_probs_v3 = modelo_v3.predict_proba(X_teste)\n",
    "skplt.metrics.plot_roc_curve(Y_teste, y_probs_v3)\n",
    "plt.show()"
   ]
  },
  {
   "cell_type": "code",
   "execution_count": 84,
   "metadata": {},
   "outputs": [
    {
     "name": "stdout",
     "output_type": "stream",
     "text": [
      "0.3541595548592588\n"
     ]
    }
   ],
   "source": [
    "# Coeficiente de Correlação Matthews\n",
    "print(matthews_corrcoef(Y_teste, previsoes_v3))"
   ]
  },
  {
   "cell_type": "markdown",
   "metadata": {},
   "source": [
    "#### Modelo BernoulliNB"
   ]
  },
  {
   "cell_type": "code",
   "execution_count": 85,
   "metadata": {},
   "outputs": [
    {
     "data": {
      "text/plain": [
       "BernoulliNB()"
      ]
     },
     "execution_count": 85,
     "metadata": {},
     "output_type": "execute_result"
    }
   ],
   "source": [
    "# Cria e treina o modelo BernoulliNB (variáveis quantitativas discretas)\n",
    "modelo_v3 = BernoulliNB()\n",
    "modelo_v3.fit(X_treino, Y_treino)"
   ]
  },
  {
   "cell_type": "code",
   "execution_count": 86,
   "metadata": {},
   "outputs": [
    {
     "name": "stdout",
     "output_type": "stream",
     "text": [
      "[[6856 2646]\n",
      " [2340 7124]]\n"
     ]
    }
   ],
   "source": [
    "# Previsões\n",
    "previsoes_v3 = modelo_v3.predict(X_teste)\n",
    "matriz_v3 = confusion_matrix(Y_teste, previsoes_v3)\n",
    "print(matriz_v3)"
   ]
  },
  {
   "cell_type": "code",
   "execution_count": 87,
   "metadata": {},
   "outputs": [
    {
     "name": "stdout",
     "output_type": "stream",
     "text": [
      "              precision    recall  f1-score   support\n",
      "\n",
      "           0       0.75      0.72      0.73      9502\n",
      "           1       0.73      0.75      0.74      9464\n",
      "\n",
      "    accuracy                           0.74     18966\n",
      "   macro avg       0.74      0.74      0.74     18966\n",
      "weighted avg       0.74      0.74      0.74     18966\n",
      "\n"
     ]
    }
   ],
   "source": [
    "# Relatório de classificação\n",
    "report = classification_report(Y_teste, previsoes_v3)\n",
    "print(report)"
   ]
  },
  {
   "cell_type": "code",
   "execution_count": 88,
   "metadata": {},
   "outputs": [
    {
     "name": "stdout",
     "output_type": "stream",
     "text": [
      "0.7371397808674172\n"
     ]
    }
   ],
   "source": [
    "# Score AUC\n",
    "print(roc_auc_score(Y_teste, previsoes_v3))"
   ]
  },
  {
   "cell_type": "code",
   "execution_count": 89,
   "metadata": {},
   "outputs": [
    {
     "data": {
      "image/png": "[encoded data removed]",
      "text/plain": [
       "<Figure size 576x576 with 1 Axes>"
      ]
     },
     "metadata": {
      "needs_background": "light"
     },
     "output_type": "display_data"
    }
   ],
   "source": [
    "# Calcula a Curva ROC para cada classe\n",
    "y_probs_v3 = modelo_v3.predict_proba(X_teste)\n",
    "skplt.metrics.plot_roc_curve(Y_teste, y_probs_v3)\n",
    "plt.show()"
   ]
  },
  {
   "cell_type": "code",
   "execution_count": 90,
   "metadata": {},
   "outputs": [
    {
     "name": "stdout",
     "output_type": "stream",
     "text": [
      "0.4744959671077635\n"
     ]
    }
   ],
   "source": [
    "# Coeficiente de Correlação Matthews\n",
    "print(matthews_corrcoef(Y_teste, previsoes_v3))"
   ]
  },
  {
   "cell_type": "markdown",
   "metadata": {},
   "source": [
    "#### Modelo GaussianNB"
   ]
  },
  {
   "cell_type": "code",
   "execution_count": 91,
   "metadata": {},
   "outputs": [
    {
     "data": {
      "text/plain": [
       "GaussianNB()"
      ]
     },
     "execution_count": 91,
     "metadata": {},
     "output_type": "execute_result"
    }
   ],
   "source": [
    "# Cria e treina o modelo GaussianNB (variáveis quantitativas com distribuição normal)\n",
    "modelo_v3 = GaussianNB()\n",
    "modelo_v3.fit(X_treino, Y_treino)\n"
   ]
  },
  {
   "cell_type": "code",
   "execution_count": 92,
   "metadata": {},
   "outputs": [
    {
     "name": "stdout",
     "output_type": "stream",
     "text": [
      "[[7685 1817]\n",
      " [3279 6185]]\n"
     ]
    }
   ],
   "source": [
    "# Previsões\n",
    "previsoes_v3 = modelo_v3.predict(X_teste)\n",
    "matriz_v3 = confusion_matrix(Y_teste, previsoes_v3)\n",
    "print(matriz_v3)"
   ]
  },
  {
   "cell_type": "code",
   "execution_count": 93,
   "metadata": {},
   "outputs": [
    {
     "name": "stdout",
     "output_type": "stream",
     "text": [
      "              precision    recall  f1-score   support\n",
      "\n",
      "           0       0.70      0.81      0.75      9502\n",
      "           1       0.77      0.65      0.71      9464\n",
      "\n",
      "    accuracy                           0.73     18966\n",
      "   macro avg       0.74      0.73      0.73     18966\n",
      "weighted avg       0.74      0.73      0.73     18966\n",
      "\n"
     ]
    }
   ],
   "source": [
    "# Relatório de classificação\n",
    "report = classification_report(Y_teste, previsoes_v3)\n",
    "print(report)"
   ]
  },
  {
   "cell_type": "code",
   "execution_count": 94,
   "metadata": {},
   "outputs": [
    {
     "name": "stdout",
     "output_type": "stream",
     "text": [
      "0.7311531313512678\n"
     ]
    }
   ],
   "source": [
    "# Score AUC\n",
    "print(roc_auc_score(Y_teste, previsoes_v3))"
   ]
  },
  {
   "cell_type": "code",
   "execution_count": 95,
   "metadata": {},
   "outputs": [
    {
     "data": {
      "image/png": "[encoded data removed]",
      "text/plain": [
       "<Figure size 576x576 with 1 Axes>"
      ]
     },
     "metadata": {
      "needs_background": "light"
     },
     "output_type": "display_data"
    }
   ],
   "source": [
    "# Calcula a Curva ROC para cada classe\n",
    "y_probs_v3 = modelo_v3.predict_proba(X_teste)\n",
    "skplt.metrics.plot_roc_curve(Y_teste, y_probs_v3)\n",
    "plt.show()"
   ]
  },
  {
   "cell_type": "code",
   "execution_count": 96,
   "metadata": {},
   "outputs": [
    {
     "name": "stdout",
     "output_type": "stream",
     "text": [
      "0.4680485116987696\n"
     ]
    }
   ],
   "source": [
    "# Coeficiente de Correlação Matthews\n",
    "print(matthews_corrcoef(Y_teste, previsoes_v3))"
   ]
  },
  {
   "cell_type": "markdown",
   "metadata": {},
   "source": [
    "### Versão 4 - KNN"
   ]
  },
  {
   "cell_type": "code",
   "execution_count": 97,
   "metadata": {},
   "outputs": [
    {
     "data": {
      "text/plain": [
       "KNeighborsClassifier()"
      ]
     },
     "execution_count": 97,
     "metadata": {},
     "output_type": "execute_result"
    }
   ],
   "source": [
    "# Cria e treina o modelo\n",
    "modelo_v4 = KNeighborsClassifier()\n",
    "modelo_v4.fit(X_treino, Y_treino)"
   ]
  },
  {
   "cell_type": "code",
   "execution_count": 98,
   "metadata": {},
   "outputs": [
    {
     "name": "stdout",
     "output_type": "stream",
     "text": [
      "[[7308 2194]\n",
      " [1605 7859]]\n"
     ]
    }
   ],
   "source": [
    "# Previsões\n",
    "previsoes_v4 = modelo_v4.predict(X_teste)\n",
    "matriz_v4 = confusion_matrix(Y_teste, previsoes_v4)\n",
    "print(matriz_v4)"
   ]
  },
  {
   "cell_type": "code",
   "execution_count": 99,
   "metadata": {},
   "outputs": [
    {
     "name": "stdout",
     "output_type": "stream",
     "text": [
      "              precision    recall  f1-score   support\n",
      "\n",
      "           0       0.82      0.77      0.79      9502\n",
      "           1       0.78      0.83      0.81      9464\n",
      "\n",
      "    accuracy                           0.80     18966\n",
      "   macro avg       0.80      0.80      0.80     18966\n",
      "weighted avg       0.80      0.80      0.80     18966\n",
      "\n"
     ]
    }
   ],
   "source": [
    "# Relatório de classificação\n",
    "report = classification_report(Y_teste, previsoes_v4)\n",
    "print(report)"
   ]
  },
  {
   "cell_type": "code",
   "execution_count": 100,
   "metadata": {},
   "outputs": [
    {
     "name": "stdout",
     "output_type": "stream",
     "text": [
      "0.7997556082422831\n"
     ]
    }
   ],
   "source": [
    "# Score AUC\n",
    "print(roc_auc_score(Y_teste, previsoes_v4))"
   ]
  },
  {
   "cell_type": "code",
   "execution_count": 101,
   "metadata": {},
   "outputs": [
    {
     "data": {
      "image/png": "[encoded data removed]",
      "text/plain": [
       "<Figure size 576x576 with 1 Axes>"
      ]
     },
     "metadata": {
      "needs_background": "light"
     },
     "output_type": "display_data"
    }
   ],
   "source": [
    "# Calcula a Curva ROC para cada classe\n",
    "y_probs_v4 = modelo_v4.predict_proba(X_teste)\n",
    "skplt.metrics.plot_roc_curve(Y_teste, y_probs_v4)\n",
    "plt.show()"
   ]
  },
  {
   "cell_type": "code",
   "execution_count": 102,
   "metadata": {},
   "outputs": [
    {
     "name": "stdout",
     "output_type": "stream",
     "text": [
      "0.6005959471109272\n"
     ]
    }
   ],
   "source": [
    "# Coeficiente de Correlação Matthews\n",
    "print(matthews_corrcoef(Y_teste, previsoes_v4))"
   ]
  },
  {
   "cell_type": "markdown",
   "metadata": {},
   "source": [
    "### Validação Cruzada"
   ]
  },
  {
   "cell_type": "markdown",
   "metadata": {},
   "source": [
    "Uma vez que terminamos de treinar nosso modelo, não podemos assumir que ele funcionará bem em dados que ainda não foram vistos. Em outras palavras, não podemos ter certeza de que o modelo terá a precisão e a variação desejadas no ambiente de produção. \n",
    "\n",
    "Precisamos de algum tipo de garantia da precisão das previsões que nosso modelo está divulgando. Para isso, precisamos validar nosso modelo. Esse processo, de decidir se os resultados numéricos que quantificam as relações entre variáveis ​​são aceitáveis​​ como descrições dos dados, é conhecido como validação.\n",
    "\n",
    "A Validação Cruzada (CV - Cross Validation) é uma das técnicas usadas para testar a eficácia de modelos de aprendizado de máquina; também é um procedimento de re-amostragem usado para avaliar um modelo se tivermos dados limitados. Para executar o CV, fazemos divisões sucessivas nos dados, separando em treino e teste, mas fazendo com o que o algoritmo passe por todo conjunto de dados. As duas abordagens principais são:\n",
    "\n",
    "- Train_Test Split approach\n",
    "- K-Folds Cross Validation\n",
    "\n",
    "Usaremos a segunda.\n"
   ]
  },
  {
   "cell_type": "markdown",
   "metadata": {},
   "source": [
    "#### K-Folds Cross Validation\n"
   ]
  },
  {
   "cell_type": "code",
   "execution_count": 103,
   "metadata": {},
   "outputs": [],
   "source": [
    "# Função para imprimir o resultado da validação cruzada\n",
    "\n",
    "# Ao realizar a validação cruzada, podemos usar todos os nossos dados, tanto para treinamento quanto para teste, \n",
    "# enquanto avaliamos nosso algoritmo de aprendizado em exemplos nunca antes vistos.\n",
    "\n",
    "# Observe que estamos usando X e Y\n",
    "\n",
    "# Função para validação cruzada com duas métricas\n",
    "def validacao_cruzada(modelo) :\n",
    "    cv_results = cross_validate(modelo, X, Y, scoring = ['accuracy', 'roc_auc'], cv = 5)\n",
    "\n",
    "    print('\\nAcurácia em Teste:', float(format(np.mean(cv_results['test_accuracy']), '.3f')))\n",
    "    print('AUC em Teste:', float(format(np.mean(cv_results['test_roc_auc']), '.3f')))\n",
    "    print()"
   ]
  },
  {
   "cell_type": "code",
   "execution_count": 104,
   "metadata": {},
   "outputs": [
    {
     "name": "stdout",
     "output_type": "stream",
     "text": [
      "\n",
      "Modelo e Parâmetros: LogisticRegression(max_iter=4000)\n",
      "\n",
      "Acurácia em Teste: 0.767\n",
      "AUC em Teste: 0.833\n",
      "\n",
      "\n",
      "Modelo e Parâmetros: RandomForestClassifier(n_estimators=150)\n",
      "\n",
      "Acurácia em Teste: 0.82\n",
      "AUC em Teste: 0.906\n",
      "\n",
      "\n",
      "Modelo e Parâmetros: GaussianNB()\n",
      "\n",
      "Acurácia em Teste: 0.726\n",
      "AUC em Teste: 0.792\n",
      "\n",
      "\n",
      "Modelo e Parâmetros: KNeighborsClassifier()\n",
      "\n",
      "Acurácia em Teste: 0.786\n",
      "AUC em Teste: 0.855\n",
      "\n",
      "Wall time: 7min 43s\n"
     ]
    }
   ],
   "source": [
    "%%time\n",
    "modelos = [LogisticRegression(max_iter = 4000), \n",
    "           RandomForestClassifier(n_estimators = 150), \n",
    "           GaussianNB(), \n",
    "           KNeighborsClassifier()]\n",
    "\n",
    "for modelo in modelos:\n",
    "    print(\"\\nModelo e Parâmetros:\", modelo)\n",
    "    validacao_cruzada(modelo)"
   ]
  },
  {
   "cell_type": "markdown",
   "metadata": {},
   "source": [
    "### Otimização de Hiperparâmetros"
   ]
  },
  {
   "cell_type": "markdown",
   "metadata": {},
   "source": [
    "Um hiperparâmetro é um parâmetro cujo valor é definido antes do início do processo de aprendizado.\n",
    "\n",
    "Alguns exemplos de hiperparâmetros incluem penalidade na regressão logística e perda na descida do gradiente estocástico. No sklearn, os hiperparâmetros são passados como argumentos para o construtor das classes de modelo.\n",
    "\n",
    "Principais Estratégias de Otimização de Hiperparâmetros:\n",
    "\n",
    "- Pesquisa em grade (Grid Search)\n",
    "- Pesquisa aleatória (Random Search)\n",
    "\n",
    "Usaremos o primeiro.\n",
    "\n",
    "\n",
    "#### Grid Search"
   ]
  },
  {
   "cell_type": "code",
   "execution_count": 105,
   "metadata": {},
   "outputs": [],
   "source": [
    "# Imports\n",
    "import pandas as pd\n",
    "import numpy as np\n",
    "\n",
    "# Função para o Grid Search\n",
    "from sklearn.model_selection import GridSearchCV\n",
    "\n",
    "# Classe para a otimização de hiperparâmetros\n",
    "class OtimizaHiperparametros:\n",
    "\n",
    "    # Construtor da classe\n",
    "    def __init__(self, models, params):\n",
    "        \n",
    "        # Verfica se algum modelo não tem hiperparâmetros para otimização\n",
    "        if not set(models.keys()).issubset(set(params.keys())):\n",
    "            missing_params = list(set(models.keys()) - set(params.keys()))\n",
    "            raise ValueError(\"Alguns estimadores estão com parâmetros ausentes: %s\" % missing_params)\n",
    "            \n",
    "        # Inicia os atributos da classe\n",
    "        self.models = models\n",
    "        self.params = params\n",
    "        self.keys = models.keys()\n",
    "        self.grid_searches = {}\n",
    "\n",
    "    # Método para executar o Grid Search\n",
    "    def fit(self, X, y, cv = 3, n_jobs = 3, verbose = 1, scoring = None, refit = False):\n",
    "        \n",
    "        # Loop por cada modelo (chave)\n",
    "        for key in self.keys:\n",
    "            print(\"\\nExecutando GridSearchCV Para o Modelo %s:\" % key)\n",
    "            model = self.models[key]\n",
    "            params = self.params[key]\n",
    "            \n",
    "            # Cria o objeto Grid Search para cada modelo\n",
    "            gs = GridSearchCV(model, \n",
    "                              params, \n",
    "                              cv = cv, \n",
    "                              n_jobs = n_jobs, \n",
    "                              verbose = verbose, \n",
    "                              scoring = scoring, \n",
    "                              refit = refit, \n",
    "                              return_train_score = True)\n",
    "            \n",
    "            # Executa o Grid Search \n",
    "            gs.fit(X,y)\n",
    "            \n",
    "            # Salva o nome do modelo que foi processado\n",
    "            self.grid_searches[key] = gs    \n",
    "\n",
    "    # Método para calcular o score (métrica final)\n",
    "    def score_summary(self, sort_by = 'mean_score'):\n",
    "        \n",
    "        # Função para criar uma linha com cada resultado do Grid Search\n",
    "        def row(key, scores, params):\n",
    "            d = {\n",
    "                 'modelo': key,\n",
    "                 'min_score': min(scores),\n",
    "                 'max_score': max(scores),\n",
    "                 'mean_score': np.mean(scores),\n",
    "                 'std_score': np.std(scores),\n",
    "            }\n",
    "            return pd.Series({**params,**d})\n",
    "\n",
    "        rows = []\n",
    "        \n",
    "        # Para cada resultado, retorna o resultadoo formatado\n",
    "        for k in self.grid_searches:\n",
    "            print(k)\n",
    "            params = self.grid_searches[k].cv_results_['params']\n",
    "            scores = []\n",
    "            for i in range(self.grid_searches[k].cv):\n",
    "                key = \"split{}_test_score\".format(i)\n",
    "                r = self.grid_searches[k].cv_results_[key]        \n",
    "                scores.append(r.reshape(len(params),1))\n",
    "\n",
    "            # Junta tudo em uma única estrutura\n",
    "            all_scores = np.hstack(scores)\n",
    "            for p, s in zip(params,all_scores):\n",
    "                rows.append((row(k, s, p)))\n",
    "\n",
    "        df = pd.concat(rows, axis=1).T.sort_values([sort_by], ascending=False)\n",
    "\n",
    "        # Gera cada coluna\n",
    "        columns = ['modelo', 'min_score', 'mean_score', 'max_score', 'std_score']\n",
    "        columns = columns + [c for c in df.columns if c not in columns]\n",
    "\n",
    "        return df[columns]"
   ]
  },
  {
   "cell_type": "code",
   "execution_count": 106,
   "metadata": {},
   "outputs": [
    {
     "data": {
      "text/plain": [
       "{'LogisticRegression': LogisticRegression(),\n",
       " 'RandomForestClassifier': RandomForestClassifier(),\n",
       " 'KNeighborsClassifier': KNeighborsClassifier()}"
      ]
     },
     "execution_count": 106,
     "metadata": {},
     "output_type": "execute_result"
    }
   ],
   "source": [
    "# Lista dos modelos para otimização\n",
    "lista_modelos = {\n",
    "    'LogisticRegression': LogisticRegression(),\n",
    "    'RandomForestClassifier': RandomForestClassifier(),\n",
    "    'KNeighborsClassifier': KNeighborsClassifier()\n",
    "}\n",
    "\n",
    "lista_modelos"
   ]
  },
  {
   "cell_type": "code",
   "execution_count": 107,
   "metadata": {},
   "outputs": [
    {
     "data": {
      "text/plain": [
       "{'LogisticRegression': {'max_iter': [4000, 5000, 8000, 10000]},\n",
       " 'RandomForestClassifier': {'n_estimators': [175, 200, 225, 250]},\n",
       " 'KNeighborsClassifier': {'n_neighbors': [4, 5, 6, 7],\n",
       "  'metric': ['minkowski'],\n",
       "  'p': [1, 2, 3]}}"
      ]
     },
     "execution_count": 107,
     "metadata": {},
     "output_type": "execute_result"
    }
   ],
   "source": [
    "# Grid de parâmetros que serão testados\n",
    "grid_parametros = {\n",
    "    'LogisticRegression': { 'max_iter': [4000, 5000, 8000, 10000] },\n",
    "    'RandomForestClassifier': { 'n_estimators': [175, 200, 225, 250] },\n",
    "    'KNeighborsClassifier': { 'n_neighbors': [4, 5, 6, 7], 'metric': ['minkowski'], 'p': [1, 2, 3] }\n",
    "}\n",
    "\n",
    "grid_parametros"
   ]
  },
  {
   "cell_type": "code",
   "execution_count": 108,
   "metadata": {},
   "outputs": [],
   "source": [
    "# Cria o otimizador de parâmetros (instância da classe)\n",
    "otimizador_parametros = OtimizaHiperparametros(lista_modelos, grid_parametros)"
   ]
  },
  {
   "cell_type": "code",
   "execution_count": 109,
   "metadata": {},
   "outputs": [
    {
     "name": "stdout",
     "output_type": "stream",
     "text": [
      "\n",
      "Executando GridSearchCV Para o Modelo LogisticRegression:\n",
      "Fitting 3 folds for each of 4 candidates, totalling 12 fits\n",
      "\n",
      "Executando GridSearchCV Para o Modelo RandomForestClassifier:\n",
      "Fitting 3 folds for each of 4 candidates, totalling 12 fits\n",
      "\n",
      "Executando GridSearchCV Para o Modelo KNeighborsClassifier:\n",
      "Fitting 3 folds for each of 12 candidates, totalling 36 fits\n",
      "Wall time: 20min 30s\n"
     ]
    }
   ],
   "source": [
    "%%time\n",
    "\n",
    "# Executa o otimizador\n",
    "otimizador_parametros.fit(X_treino, Y_treino, scoring = 'roc_auc', n_jobs = 2)"
   ]
  },
  {
   "cell_type": "code",
   "execution_count": 110,
   "metadata": {},
   "outputs": [
    {
     "name": "stdout",
     "output_type": "stream",
     "text": [
      "LogisticRegression\n",
      "RandomForestClassifier\n",
      "KNeighborsClassifier\n"
     ]
    },
    {
     "data": {
      "text/html": [
       "<div>\n",
       "<style scoped>\n",
       "    .dataframe tbody tr th:only-of-type {\n",
       "        vertical-align: middle;\n",
       "    }\n",
       "\n",
       "    .dataframe tbody tr th {\n",
       "        vertical-align: top;\n",
       "    }\n",
       "\n",
       "    .dataframe thead th {\n",
       "        text-align: right;\n",
       "    }\n",
       "</style>\n",
       "<table border=\"1\" class=\"dataframe\">\n",
       "  <thead>\n",
       "    <tr style=\"text-align: right;\">\n",
       "      <th></th>\n",
       "      <th>modelo</th>\n",
       "      <th>min_score</th>\n",
       "      <th>mean_score</th>\n",
       "      <th>max_score</th>\n",
       "      <th>std_score</th>\n",
       "      <th>max_iter</th>\n",
       "      <th>n_estimators</th>\n",
       "      <th>metric</th>\n",
       "      <th>n_neighbors</th>\n",
       "      <th>p</th>\n",
       "    </tr>\n",
       "  </thead>\n",
       "  <tbody>\n",
       "    <tr>\n",
       "      <th>7</th>\n",
       "      <td>RandomForestClassifier</td>\n",
       "      <td>0.905586</td>\n",
       "      <td>0.906124</td>\n",
       "      <td>0.906532</td>\n",
       "      <td>0.000397</td>\n",
       "      <td>NaN</td>\n",
       "      <td>250</td>\n",
       "      <td>NaN</td>\n",
       "      <td>NaN</td>\n",
       "      <td>NaN</td>\n",
       "    </tr>\n",
       "    <tr>\n",
       "      <th>6</th>\n",
       "      <td>RandomForestClassifier</td>\n",
       "      <td>0.905632</td>\n",
       "      <td>0.906073</td>\n",
       "      <td>0.906461</td>\n",
       "      <td>0.000341</td>\n",
       "      <td>NaN</td>\n",
       "      <td>225</td>\n",
       "      <td>NaN</td>\n",
       "      <td>NaN</td>\n",
       "      <td>NaN</td>\n",
       "    </tr>\n",
       "    <tr>\n",
       "      <th>5</th>\n",
       "      <td>RandomForestClassifier</td>\n",
       "      <td>0.905312</td>\n",
       "      <td>0.905921</td>\n",
       "      <td>0.906283</td>\n",
       "      <td>0.000433</td>\n",
       "      <td>NaN</td>\n",
       "      <td>200</td>\n",
       "      <td>NaN</td>\n",
       "      <td>NaN</td>\n",
       "      <td>NaN</td>\n",
       "    </tr>\n",
       "    <tr>\n",
       "      <th>4</th>\n",
       "      <td>RandomForestClassifier</td>\n",
       "      <td>0.905426</td>\n",
       "      <td>0.905935</td>\n",
       "      <td>0.906237</td>\n",
       "      <td>0.000362</td>\n",
       "      <td>NaN</td>\n",
       "      <td>175</td>\n",
       "      <td>NaN</td>\n",
       "      <td>NaN</td>\n",
       "      <td>NaN</td>\n",
       "    </tr>\n",
       "    <tr>\n",
       "      <th>11</th>\n",
       "      <td>KNeighborsClassifier</td>\n",
       "      <td>0.860853</td>\n",
       "      <td>0.862308</td>\n",
       "      <td>0.863938</td>\n",
       "      <td>0.001265</td>\n",
       "      <td>NaN</td>\n",
       "      <td>NaN</td>\n",
       "      <td>minkowski</td>\n",
       "      <td>5</td>\n",
       "      <td>1</td>\n",
       "    </tr>\n",
       "    <tr>\n",
       "      <th>14</th>\n",
       "      <td>KNeighborsClassifier</td>\n",
       "      <td>0.861922</td>\n",
       "      <td>0.862583</td>\n",
       "      <td>0.863413</td>\n",
       "      <td>0.00062</td>\n",
       "      <td>NaN</td>\n",
       "      <td>NaN</td>\n",
       "      <td>minkowski</td>\n",
       "      <td>6</td>\n",
       "      <td>1</td>\n",
       "    </tr>\n",
       "    <tr>\n",
       "      <th>17</th>\n",
       "      <td>KNeighborsClassifier</td>\n",
       "      <td>0.861973</td>\n",
       "      <td>0.86238</td>\n",
       "      <td>0.862699</td>\n",
       "      <td>0.000303</td>\n",
       "      <td>NaN</td>\n",
       "      <td>NaN</td>\n",
       "      <td>minkowski</td>\n",
       "      <td>7</td>\n",
       "      <td>1</td>\n",
       "    </tr>\n",
       "    <tr>\n",
       "      <th>8</th>\n",
       "      <td>KNeighborsClassifier</td>\n",
       "      <td>0.857353</td>\n",
       "      <td>0.858864</td>\n",
       "      <td>0.860675</td>\n",
       "      <td>0.001372</td>\n",
       "      <td>NaN</td>\n",
       "      <td>NaN</td>\n",
       "      <td>minkowski</td>\n",
       "      <td>4</td>\n",
       "      <td>1</td>\n",
       "    </tr>\n",
       "    <tr>\n",
       "      <th>12</th>\n",
       "      <td>KNeighborsClassifier</td>\n",
       "      <td>0.857199</td>\n",
       "      <td>0.858902</td>\n",
       "      <td>0.860281</td>\n",
       "      <td>0.001279</td>\n",
       "      <td>NaN</td>\n",
       "      <td>NaN</td>\n",
       "      <td>minkowski</td>\n",
       "      <td>5</td>\n",
       "      <td>2</td>\n",
       "    </tr>\n",
       "    <tr>\n",
       "      <th>15</th>\n",
       "      <td>KNeighborsClassifier</td>\n",
       "      <td>0.858153</td>\n",
       "      <td>0.859055</td>\n",
       "      <td>0.859767</td>\n",
       "      <td>0.000672</td>\n",
       "      <td>NaN</td>\n",
       "      <td>NaN</td>\n",
       "      <td>minkowski</td>\n",
       "      <td>6</td>\n",
       "      <td>2</td>\n",
       "    </tr>\n",
       "    <tr>\n",
       "      <th>13</th>\n",
       "      <td>KNeighborsClassifier</td>\n",
       "      <td>0.856118</td>\n",
       "      <td>0.858061</td>\n",
       "      <td>0.859378</td>\n",
       "      <td>0.001403</td>\n",
       "      <td>NaN</td>\n",
       "      <td>NaN</td>\n",
       "      <td>minkowski</td>\n",
       "      <td>5</td>\n",
       "      <td>3</td>\n",
       "    </tr>\n",
       "    <tr>\n",
       "      <th>18</th>\n",
       "      <td>KNeighborsClassifier</td>\n",
       "      <td>0.85749</td>\n",
       "      <td>0.858399</td>\n",
       "      <td>0.858908</td>\n",
       "      <td>0.000644</td>\n",
       "      <td>NaN</td>\n",
       "      <td>NaN</td>\n",
       "      <td>minkowski</td>\n",
       "      <td>7</td>\n",
       "      <td>2</td>\n",
       "    </tr>\n",
       "    <tr>\n",
       "      <th>16</th>\n",
       "      <td>KNeighborsClassifier</td>\n",
       "      <td>0.85717</td>\n",
       "      <td>0.858121</td>\n",
       "      <td>0.858692</td>\n",
       "      <td>0.000677</td>\n",
       "      <td>NaN</td>\n",
       "      <td>NaN</td>\n",
       "      <td>minkowski</td>\n",
       "      <td>6</td>\n",
       "      <td>3</td>\n",
       "    </tr>\n",
       "    <tr>\n",
       "      <th>19</th>\n",
       "      <td>KNeighborsClassifier</td>\n",
       "      <td>0.856363</td>\n",
       "      <td>0.857286</td>\n",
       "      <td>0.857889</td>\n",
       "      <td>0.000663</td>\n",
       "      <td>NaN</td>\n",
       "      <td>NaN</td>\n",
       "      <td>minkowski</td>\n",
       "      <td>7</td>\n",
       "      <td>3</td>\n",
       "    </tr>\n",
       "    <tr>\n",
       "      <th>9</th>\n",
       "      <td>KNeighborsClassifier</td>\n",
       "      <td>0.85365</td>\n",
       "      <td>0.855783</td>\n",
       "      <td>0.857623</td>\n",
       "      <td>0.001635</td>\n",
       "      <td>NaN</td>\n",
       "      <td>NaN</td>\n",
       "      <td>minkowski</td>\n",
       "      <td>4</td>\n",
       "      <td>2</td>\n",
       "    </tr>\n",
       "    <tr>\n",
       "      <th>10</th>\n",
       "      <td>KNeighborsClassifier</td>\n",
       "      <td>0.852965</td>\n",
       "      <td>0.855254</td>\n",
       "      <td>0.857276</td>\n",
       "      <td>0.00177</td>\n",
       "      <td>NaN</td>\n",
       "      <td>NaN</td>\n",
       "      <td>minkowski</td>\n",
       "      <td>4</td>\n",
       "      <td>3</td>\n",
       "    </tr>\n",
       "    <tr>\n",
       "      <th>1</th>\n",
       "      <td>LogisticRegression</td>\n",
       "      <td>0.833841</td>\n",
       "      <td>0.835161</td>\n",
       "      <td>0.836172</td>\n",
       "      <td>0.000976</td>\n",
       "      <td>5000</td>\n",
       "      <td>NaN</td>\n",
       "      <td>NaN</td>\n",
       "      <td>NaN</td>\n",
       "      <td>NaN</td>\n",
       "    </tr>\n",
       "    <tr>\n",
       "      <th>3</th>\n",
       "      <td>LogisticRegression</td>\n",
       "      <td>0.833841</td>\n",
       "      <td>0.835161</td>\n",
       "      <td>0.836172</td>\n",
       "      <td>0.000976</td>\n",
       "      <td>10000</td>\n",
       "      <td>NaN</td>\n",
       "      <td>NaN</td>\n",
       "      <td>NaN</td>\n",
       "      <td>NaN</td>\n",
       "    </tr>\n",
       "    <tr>\n",
       "      <th>2</th>\n",
       "      <td>LogisticRegression</td>\n",
       "      <td>0.833841</td>\n",
       "      <td>0.835161</td>\n",
       "      <td>0.836172</td>\n",
       "      <td>0.000976</td>\n",
       "      <td>8000</td>\n",
       "      <td>NaN</td>\n",
       "      <td>NaN</td>\n",
       "      <td>NaN</td>\n",
       "      <td>NaN</td>\n",
       "    </tr>\n",
       "    <tr>\n",
       "      <th>0</th>\n",
       "      <td>LogisticRegression</td>\n",
       "      <td>0.833841</td>\n",
       "      <td>0.835161</td>\n",
       "      <td>0.836172</td>\n",
       "      <td>0.000976</td>\n",
       "      <td>4000</td>\n",
       "      <td>NaN</td>\n",
       "      <td>NaN</td>\n",
       "      <td>NaN</td>\n",
       "      <td>NaN</td>\n",
       "    </tr>\n",
       "  </tbody>\n",
       "</table>\n",
       "</div>"
      ],
      "text/plain": [
       "                    modelo min_score mean_score max_score std_score max_iter  \\\n",
       "7   RandomForestClassifier  0.905586   0.906124  0.906532  0.000397      NaN   \n",
       "6   RandomForestClassifier  0.905632   0.906073  0.906461  0.000341      NaN   \n",
       "5   RandomForestClassifier  0.905312   0.905921  0.906283  0.000433      NaN   \n",
       "4   RandomForestClassifier  0.905426   0.905935  0.906237  0.000362      NaN   \n",
       "11    KNeighborsClassifier  0.860853   0.862308  0.863938  0.001265      NaN   \n",
       "14    KNeighborsClassifier  0.861922   0.862583  0.863413   0.00062      NaN   \n",
       "17    KNeighborsClassifier  0.861973    0.86238  0.862699  0.000303      NaN   \n",
       "8     KNeighborsClassifier  0.857353   0.858864  0.860675  0.001372      NaN   \n",
       "12    KNeighborsClassifier  0.857199   0.858902  0.860281  0.001279      NaN   \n",
       "15    KNeighborsClassifier  0.858153   0.859055  0.859767  0.000672      NaN   \n",
       "13    KNeighborsClassifier  0.856118   0.858061  0.859378  0.001403      NaN   \n",
       "18    KNeighborsClassifier   0.85749   0.858399  0.858908  0.000644      NaN   \n",
       "16    KNeighborsClassifier   0.85717   0.858121  0.858692  0.000677      NaN   \n",
       "19    KNeighborsClassifier  0.856363   0.857286  0.857889  0.000663      NaN   \n",
       "9     KNeighborsClassifier   0.85365   0.855783  0.857623  0.001635      NaN   \n",
       "10    KNeighborsClassifier  0.852965   0.855254  0.857276   0.00177      NaN   \n",
       "1       LogisticRegression  0.833841   0.835161  0.836172  0.000976     5000   \n",
       "3       LogisticRegression  0.833841   0.835161  0.836172  0.000976    10000   \n",
       "2       LogisticRegression  0.833841   0.835161  0.836172  0.000976     8000   \n",
       "0       LogisticRegression  0.833841   0.835161  0.836172  0.000976     4000   \n",
       "\n",
       "   n_estimators     metric n_neighbors    p  \n",
       "7           250        NaN         NaN  NaN  \n",
       "6           225        NaN         NaN  NaN  \n",
       "5           200        NaN         NaN  NaN  \n",
       "4           175        NaN         NaN  NaN  \n",
       "11          NaN  minkowski           5    1  \n",
       "14          NaN  minkowski           6    1  \n",
       "17          NaN  minkowski           7    1  \n",
       "8           NaN  minkowski           4    1  \n",
       "12          NaN  minkowski           5    2  \n",
       "15          NaN  minkowski           6    2  \n",
       "13          NaN  minkowski           5    3  \n",
       "18          NaN  minkowski           7    2  \n",
       "16          NaN  minkowski           6    3  \n",
       "19          NaN  minkowski           7    3  \n",
       "9           NaN  minkowski           4    2  \n",
       "10          NaN  minkowski           4    3  \n",
       "1           NaN        NaN         NaN  NaN  \n",
       "3           NaN        NaN         NaN  NaN  \n",
       "2           NaN        NaN         NaN  NaN  \n",
       "0           NaN        NaN         NaN  NaN  "
      ]
     },
     "execution_count": 110,
     "metadata": {},
     "output_type": "execute_result"
    }
   ],
   "source": [
    "# Sumário da otimização\n",
    "otimizador_parametros.score_summary(sort_by = 'max_score')"
   ]
  },
  {
   "cell_type": "markdown",
   "metadata": {},
   "source": [
    "### Versão 5 - Deep Learning"
   ]
  },
  {
   "cell_type": "code",
   "execution_count": 111,
   "metadata": {},
   "outputs": [
    {
     "data": {
      "text/plain": [
       "(170688, 12)"
      ]
     },
     "execution_count": 111,
     "metadata": {},
     "output_type": "execute_result"
    }
   ],
   "source": [
    "X_treino.shape"
   ]
  },
  {
   "cell_type": "code",
   "execution_count": 112,
   "metadata": {},
   "outputs": [],
   "source": [
    "# Construção do modelo com Keras\n",
    "# Definimos diversas camadas e aplicamos regularização com dropout para evitar o overfitting\n",
    "\n",
    "modelo_v5 = Sequential()\n",
    "modelo_v5.add(Dense(256, input_dim = 12, activation = 'relu'))\n",
    "modelo_v5.add(Dropout(0.5))\n",
    "modelo_v5.add(Dense(256, activation = 'relu'))\n",
    "modelo_v5.add(Dropout(0.5))\n",
    "modelo_v5.add(Dense(1, activation = 'sigmoid'))\n",
    "modelo_v5.compile(loss = 'binary_crossentropy', optimizer = 'adam', metrics = ['accuracy'])"
   ]
  },
  {
   "cell_type": "code",
   "execution_count": 113,
   "metadata": {},
   "outputs": [
    {
     "name": "stdout",
     "output_type": "stream",
     "text": [
      "Epoch 1/100\n",
      "1201/1201 [==============================] - 9s 7ms/step - loss: 0.6529 - accuracy: 0.6982 - val_loss: 0.5583 - val_accuracy: 0.7443\n",
      "Epoch 2/100\n",
      "1201/1201 [==============================] - 7s 6ms/step - loss: 0.5437 - accuracy: 0.7539 - val_loss: 0.5150 - val_accuracy: 0.7701\n",
      "Epoch 3/100\n",
      "1201/1201 [==============================] - 7s 6ms/step - loss: 0.5256 - accuracy: 0.7646 - val_loss: 0.5071 - val_accuracy: 0.7773\n",
      "Epoch 4/100\n",
      "1201/1201 [==============================] - 7s 6ms/step - loss: 0.5055 - accuracy: 0.7709 - val_loss: 0.4889 - val_accuracy: 0.7793\n",
      "Epoch 5/100\n",
      "1201/1201 [==============================] - 7s 6ms/step - loss: 0.4932 - accuracy: 0.7743 - val_loss: 0.4731 - val_accuracy: 0.7831\n",
      "Epoch 6/100\n",
      "1201/1201 [==============================] - 7s 6ms/step - loss: 0.4869 - accuracy: 0.7768 - val_loss: 0.4693 - val_accuracy: 0.7840\n",
      "Epoch 7/100\n",
      "1201/1201 [==============================] - 7s 6ms/step - loss: 0.4858 - accuracy: 0.7774 - val_loss: 0.4728 - val_accuracy: 0.7862\n",
      "Epoch 8/100\n",
      "1201/1201 [==============================] - 7s 6ms/step - loss: 0.4845 - accuracy: 0.7785 - val_loss: 0.4683 - val_accuracy: 0.7856\n",
      "Epoch 9/100\n",
      "1201/1201 [==============================] - 7s 6ms/step - loss: 0.4818 - accuracy: 0.7788 - val_loss: 0.4695 - val_accuracy: 0.7865\n",
      "Epoch 10/100\n",
      "1201/1201 [==============================] - 7s 6ms/step - loss: 0.4818 - accuracy: 0.7790 - val_loss: 0.4624 - val_accuracy: 0.7866\n",
      "Epoch 11/100\n",
      "1201/1201 [==============================] - 8s 6ms/step - loss: 0.4820 - accuracy: 0.7782 - val_loss: 0.4693 - val_accuracy: 0.7887\n",
      "Epoch 12/100\n",
      "1201/1201 [==============================] - 7s 6ms/step - loss: 0.4825 - accuracy: 0.7782 - val_loss: 0.4660 - val_accuracy: 0.7866\n",
      "Epoch 13/100\n",
      "1201/1201 [==============================] - 7s 6ms/step - loss: 0.4826 - accuracy: 0.7784 - val_loss: 0.4664 - val_accuracy: 0.7870\n",
      "Epoch 14/100\n",
      "1201/1201 [==============================] - 7s 6ms/step - loss: 0.4805 - accuracy: 0.7789 - val_loss: 0.4624 - val_accuracy: 0.7878\n",
      "Epoch 15/100\n",
      "1201/1201 [==============================] - 7s 6ms/step - loss: 0.4823 - accuracy: 0.7786 - val_loss: 0.4657 - val_accuracy: 0.7865\n",
      "Epoch 16/100\n",
      "1201/1201 [==============================] - 7s 6ms/step - loss: 0.4810 - accuracy: 0.7788 - val_loss: 0.4646 - val_accuracy: 0.7860\n",
      "Epoch 17/100\n",
      "1201/1201 [==============================] - 7s 6ms/step - loss: 0.4796 - accuracy: 0.7791 - val_loss: 0.4647 - val_accuracy: 0.7865\n",
      "Epoch 18/100\n",
      "1201/1201 [==============================] - 8s 6ms/step - loss: 0.4776 - accuracy: 0.7801 - val_loss: 0.4716 - val_accuracy: 0.7867\n",
      "Epoch 19/100\n",
      "1201/1201 [==============================] - 7s 6ms/step - loss: 0.4794 - accuracy: 0.7791 - val_loss: 0.4658 - val_accuracy: 0.7875\n",
      "Epoch 20/100\n",
      "1201/1201 [==============================] - 7s 6ms/step - loss: 0.4782 - accuracy: 0.7797 - val_loss: 0.4675 - val_accuracy: 0.7875\n",
      "Epoch 21/100\n",
      "1201/1201 [==============================] - 7s 6ms/step - loss: 0.4804 - accuracy: 0.7792 - val_loss: 0.4670 - val_accuracy: 0.7874\n",
      "Epoch 22/100\n",
      "1201/1201 [==============================] - 7s 6ms/step - loss: 0.4782 - accuracy: 0.7799 - val_loss: 0.4678 - val_accuracy: 0.7879\n",
      "Epoch 23/100\n",
      "1201/1201 [==============================] - 7s 6ms/step - loss: 0.4776 - accuracy: 0.7803 - val_loss: 0.4677 - val_accuracy: 0.7879\n",
      "Epoch 24/100\n",
      "1201/1201 [==============================] - 7s 6ms/step - loss: 0.4800 - accuracy: 0.7790 - val_loss: 0.4693 - val_accuracy: 0.7875\n",
      "Epoch 25/100\n",
      "1201/1201 [==============================] - 7s 6ms/step - loss: 0.4774 - accuracy: 0.7807 - val_loss: 0.4627 - val_accuracy: 0.7859\n",
      "Epoch 26/100\n",
      "1201/1201 [==============================] - 7s 6ms/step - loss: 0.4800 - accuracy: 0.7786 - val_loss: 0.4662 - val_accuracy: 0.7880\n",
      "Epoch 27/100\n",
      "1201/1201 [==============================] - 7s 6ms/step - loss: 0.4780 - accuracy: 0.7803 - val_loss: 0.4682 - val_accuracy: 0.7878\n",
      "Epoch 28/100\n",
      "1201/1201 [==============================] - 7s 6ms/step - loss: 0.4768 - accuracy: 0.7801 - val_loss: 0.4688 - val_accuracy: 0.7874\n",
      "Epoch 29/100\n",
      "1201/1201 [==============================] - 7s 6ms/step - loss: 0.4776 - accuracy: 0.7811 - val_loss: 0.4625 - val_accuracy: 0.7879\n",
      "Epoch 30/100\n",
      "1201/1201 [==============================] - 7s 6ms/step - loss: 0.4778 - accuracy: 0.7803 - val_loss: 0.4674 - val_accuracy: 0.7872\n",
      "Epoch 31/100\n",
      "1201/1201 [==============================] - 7s 6ms/step - loss: 0.4786 - accuracy: 0.7796 - val_loss: 0.4741 - val_accuracy: 0.7880\n",
      "Epoch 32/100\n",
      "1201/1201 [==============================] - 7s 6ms/step - loss: 0.4786 - accuracy: 0.7799 - val_loss: 0.4666 - val_accuracy: 0.7870\n",
      "Epoch 33/100\n",
      "1201/1201 [==============================] - 7s 6ms/step - loss: 0.4755 - accuracy: 0.7808 - val_loss: 0.4636 - val_accuracy: 0.7877\n",
      "Epoch 34/100\n",
      "1201/1201 [==============================] - 7s 6ms/step - loss: 0.4765 - accuracy: 0.7797 - val_loss: 0.4682 - val_accuracy: 0.7882\n",
      "Epoch 35/100\n",
      "1201/1201 [==============================] - 8s 6ms/step - loss: 0.4782 - accuracy: 0.7788 - val_loss: 0.4640 - val_accuracy: 0.7867\n",
      "Epoch 36/100\n",
      "1201/1201 [==============================] - 7s 6ms/step - loss: 0.4783 - accuracy: 0.7795 - val_loss: 0.4721 - val_accuracy: 0.7874\n",
      "Epoch 37/100\n",
      "1201/1201 [==============================] - 7s 6ms/step - loss: 0.4776 - accuracy: 0.7803 - val_loss: 0.4697 - val_accuracy: 0.7868\n",
      "Epoch 38/100\n",
      "1201/1201 [==============================] - 7s 6ms/step - loss: 0.4771 - accuracy: 0.7809 - val_loss: 0.4678 - val_accuracy: 0.7865\n",
      "Epoch 39/100\n",
      "1201/1201 [==============================] - 7s 6ms/step - loss: 0.4761 - accuracy: 0.7814 - val_loss: 0.4685 - val_accuracy: 0.7865\n",
      "Epoch 40/100\n",
      "1201/1201 [==============================] - 7s 6ms/step - loss: 0.4779 - accuracy: 0.7796 - val_loss: 0.4689 - val_accuracy: 0.7874\n",
      "Epoch 41/100\n",
      "1201/1201 [==============================] - 7s 6ms/step - loss: 0.4782 - accuracy: 0.7800 - val_loss: 0.4741 - val_accuracy: 0.7861\n",
      "Epoch 42/100\n",
      "1201/1201 [==============================] - 9s 7ms/step - loss: 0.4761 - accuracy: 0.7811 - val_loss: 0.4719 - val_accuracy: 0.7877\n",
      "Epoch 43/100\n",
      "1201/1201 [==============================] - 8s 7ms/step - loss: 0.4755 - accuracy: 0.7804 - val_loss: 0.4647 - val_accuracy: 0.7865\n",
      "Epoch 44/100\n",
      "1201/1201 [==============================] - 7s 6ms/step - loss: 0.4761 - accuracy: 0.7811 - val_loss: 0.4658 - val_accuracy: 0.7879\n",
      "Epoch 45/100\n",
      "1201/1201 [==============================] - 7s 6ms/step - loss: 0.4749 - accuracy: 0.7816 - val_loss: 0.4759 - val_accuracy: 0.7880\n",
      "Epoch 46/100\n",
      "1201/1201 [==============================] - 7s 6ms/step - loss: 0.4760 - accuracy: 0.7808 - val_loss: 0.4646 - val_accuracy: 0.7879\n",
      "Epoch 47/100\n",
      "1201/1201 [==============================] - 7s 6ms/step - loss: 0.4749 - accuracy: 0.7814 - val_loss: 0.4719 - val_accuracy: 0.7868\n",
      "Epoch 48/100\n",
      "1201/1201 [==============================] - 7s 6ms/step - loss: 0.4745 - accuracy: 0.7815 - val_loss: 0.4698 - val_accuracy: 0.7882\n",
      "Epoch 49/100\n",
      "1201/1201 [==============================] - 7s 6ms/step - loss: 0.4738 - accuracy: 0.7817 - val_loss: 0.4720 - val_accuracy: 0.7865\n",
      "Epoch 50/100\n",
      "1201/1201 [==============================] - 8s 7ms/step - loss: 0.4783 - accuracy: 0.7794 - val_loss: 0.4680 - val_accuracy: 0.7872\n",
      "Epoch 51/100\n",
      "1201/1201 [==============================] - 8s 7ms/step - loss: 0.4767 - accuracy: 0.7804 - val_loss: 0.4692 - val_accuracy: 0.7882\n",
      "Epoch 52/100\n",
      "1201/1201 [==============================] - 8s 6ms/step - loss: 0.4752 - accuracy: 0.7814 - val_loss: 0.4680 - val_accuracy: 0.7890\n",
      "Epoch 53/100\n",
      "1201/1201 [==============================] - 8s 6ms/step - loss: 0.4746 - accuracy: 0.7816 - val_loss: 0.4645 - val_accuracy: 0.7870\n",
      "Epoch 54/100\n",
      "1201/1201 [==============================] - 7s 6ms/step - loss: 0.4754 - accuracy: 0.7810 - val_loss: 0.4670 - val_accuracy: 0.7872\n",
      "Epoch 55/100\n",
      "1201/1201 [==============================] - 7s 6ms/step - loss: 0.4751 - accuracy: 0.7816 - val_loss: 0.4692 - val_accuracy: 0.7873\n",
      "Epoch 56/100\n",
      "1201/1201 [==============================] - 7s 6ms/step - loss: 0.4754 - accuracy: 0.7815 - val_loss: 0.4691 - val_accuracy: 0.7884\n",
      "Epoch 57/100\n"
     ]
    },
    {
     "name": "stdout",
     "output_type": "stream",
     "text": [
      "1201/1201 [==============================] - 7s 6ms/step - loss: 0.4759 - accuracy: 0.7805 - val_loss: 0.4655 - val_accuracy: 0.7866\n",
      "Epoch 58/100\n",
      "1201/1201 [==============================] - 7s 6ms/step - loss: 0.4742 - accuracy: 0.7811 - val_loss: 0.4663 - val_accuracy: 0.7865\n",
      "Epoch 59/100\n",
      "1201/1201 [==============================] - 8s 7ms/step - loss: 0.4746 - accuracy: 0.7813 - val_loss: 0.4758 - val_accuracy: 0.7877\n",
      "Epoch 60/100\n",
      "1201/1201 [==============================] - 8s 6ms/step - loss: 0.4745 - accuracy: 0.7804 - val_loss: 0.4699 - val_accuracy: 0.7877\n",
      "Epoch 61/100\n",
      "1201/1201 [==============================] - 8s 6ms/step - loss: 0.4756 - accuracy: 0.7805 - val_loss: 0.4643 - val_accuracy: 0.7862\n",
      "Epoch 62/100\n",
      "1201/1201 [==============================] - 7s 6ms/step - loss: 0.4752 - accuracy: 0.7812 - val_loss: 0.4710 - val_accuracy: 0.7863\n",
      "Epoch 63/100\n",
      "1201/1201 [==============================] - 7s 6ms/step - loss: 0.4749 - accuracy: 0.7804 - val_loss: 0.4714 - val_accuracy: 0.7873\n",
      "Epoch 64/100\n",
      "1201/1201 [==============================] - 7s 6ms/step - loss: 0.4744 - accuracy: 0.7813 - val_loss: 0.4712 - val_accuracy: 0.7860\n",
      "Epoch 65/100\n",
      "1201/1201 [==============================] - 8s 6ms/step - loss: 0.4752 - accuracy: 0.7809 - val_loss: 0.4713 - val_accuracy: 0.7875\n",
      "Epoch 66/100\n",
      "1201/1201 [==============================] - 7s 6ms/step - loss: 0.4748 - accuracy: 0.7805 - val_loss: 0.4735 - val_accuracy: 0.7863\n",
      "Epoch 67/100\n",
      "1201/1201 [==============================] - 8s 6ms/step - loss: 0.4742 - accuracy: 0.7804 - val_loss: 0.4701 - val_accuracy: 0.7863\n",
      "Epoch 68/100\n",
      "1201/1201 [==============================] - 8s 7ms/step - loss: 0.4742 - accuracy: 0.7807 - val_loss: 0.4703 - val_accuracy: 0.7868\n",
      "Epoch 69/100\n",
      "1201/1201 [==============================] - 7s 6ms/step - loss: 0.4737 - accuracy: 0.7810 - val_loss: 0.4751 - val_accuracy: 0.7868\n",
      "Epoch 70/100\n",
      "1201/1201 [==============================] - 7s 6ms/step - loss: 0.4756 - accuracy: 0.7803 - val_loss: 0.4737 - val_accuracy: 0.7866\n",
      "Epoch 71/100\n",
      "1201/1201 [==============================] - 7s 6ms/step - loss: 0.4744 - accuracy: 0.7811 - val_loss: 0.4696 - val_accuracy: 0.7867\n",
      "Epoch 72/100\n",
      "1201/1201 [==============================] - 7s 6ms/step - loss: 0.4752 - accuracy: 0.7805 - val_loss: 0.4688 - val_accuracy: 0.7870\n",
      "Epoch 73/100\n",
      "1201/1201 [==============================] - 7s 6ms/step - loss: 0.4755 - accuracy: 0.7808 - val_loss: 0.4767 - val_accuracy: 0.7872\n",
      "Epoch 74/100\n",
      "1201/1201 [==============================] - 7s 6ms/step - loss: 0.4747 - accuracy: 0.7804 - val_loss: 0.4631 - val_accuracy: 0.7864\n",
      "Epoch 75/100\n",
      "1201/1201 [==============================] - 7s 6ms/step - loss: 0.4760 - accuracy: 0.7804 - val_loss: 0.4716 - val_accuracy: 0.7865\n",
      "Epoch 76/100\n",
      "1201/1201 [==============================] - 8s 6ms/step - loss: 0.4744 - accuracy: 0.7815 - val_loss: 0.4708 - val_accuracy: 0.7858\n",
      "Epoch 77/100\n",
      "1201/1201 [==============================] - 8s 6ms/step - loss: 0.4739 - accuracy: 0.7805 - val_loss: 0.4720 - val_accuracy: 0.7880\n",
      "Epoch 78/100\n",
      "1201/1201 [==============================] - 7s 6ms/step - loss: 0.4746 - accuracy: 0.7809 - val_loss: 0.4745 - val_accuracy: 0.7866\n",
      "Epoch 79/100\n",
      "1201/1201 [==============================] - 7s 6ms/step - loss: 0.4744 - accuracy: 0.7814 - val_loss: 0.4734 - val_accuracy: 0.7888\n",
      "Epoch 80/100\n",
      "1201/1201 [==============================] - 7s 6ms/step - loss: 0.4734 - accuracy: 0.7811 - val_loss: 0.4670 - val_accuracy: 0.7861\n",
      "Epoch 81/100\n",
      "1201/1201 [==============================] - 7s 6ms/step - loss: 0.4745 - accuracy: 0.7807 - val_loss: 0.4675 - val_accuracy: 0.7880\n",
      "Epoch 82/100\n",
      "1201/1201 [==============================] - 7s 6ms/step - loss: 0.4745 - accuracy: 0.7804 - val_loss: 0.4729 - val_accuracy: 0.7886\n",
      "Epoch 83/100\n",
      "1201/1201 [==============================] - 7s 6ms/step - loss: 0.4735 - accuracy: 0.7809 - val_loss: 0.4701 - val_accuracy: 0.7879\n",
      "Epoch 84/100\n",
      "1201/1201 [==============================] - 8s 7ms/step - loss: 0.4735 - accuracy: 0.7808 - val_loss: 0.4740 - val_accuracy: 0.7875\n",
      "Epoch 85/100\n",
      "1201/1201 [==============================] - 7s 6ms/step - loss: 0.4734 - accuracy: 0.7818 - val_loss: 0.4639 - val_accuracy: 0.7879\n",
      "Epoch 86/100\n",
      "1201/1201 [==============================] - 8s 6ms/step - loss: 0.4736 - accuracy: 0.7810 - val_loss: 0.4741 - val_accuracy: 0.7869\n",
      "Epoch 87/100\n",
      "1201/1201 [==============================] - 7s 6ms/step - loss: 0.4763 - accuracy: 0.7794 - val_loss: 0.4737 - val_accuracy: 0.7870\n",
      "Epoch 88/100\n",
      "1201/1201 [==============================] - 7s 6ms/step - loss: 0.4755 - accuracy: 0.7803 - val_loss: 0.4753 - val_accuracy: 0.7858\n",
      "Epoch 89/100\n",
      "1201/1201 [==============================] - 7s 6ms/step - loss: 0.4749 - accuracy: 0.7801 - val_loss: 0.4755 - val_accuracy: 0.7870\n",
      "Epoch 90/100\n",
      "1201/1201 [==============================] - 7s 6ms/step - loss: 0.4739 - accuracy: 0.7812 - val_loss: 0.4839 - val_accuracy: 0.7870\n",
      "Epoch 91/100\n",
      "1201/1201 [==============================] - 7s 6ms/step - loss: 0.4748 - accuracy: 0.7812 - val_loss: 0.4742 - val_accuracy: 0.7872\n",
      "Epoch 92/100\n",
      "1201/1201 [==============================] - 8s 7ms/step - loss: 0.4745 - accuracy: 0.7809 - val_loss: 0.4785 - val_accuracy: 0.7876\n",
      "Epoch 93/100\n",
      "1201/1201 [==============================] - 7s 6ms/step - loss: 0.4740 - accuracy: 0.7812 - val_loss: 0.4758 - val_accuracy: 0.7875\n",
      "Epoch 94/100\n",
      "1201/1201 [==============================] - 7s 6ms/step - loss: 0.4737 - accuracy: 0.7807 - val_loss: 0.4685 - val_accuracy: 0.7862\n",
      "Epoch 95/100\n",
      "1201/1201 [==============================] - 7s 6ms/step - loss: 0.4757 - accuracy: 0.7797 - val_loss: 0.4720 - val_accuracy: 0.7875\n",
      "Epoch 96/100\n",
      "1201/1201 [==============================] - 7s 6ms/step - loss: 0.4746 - accuracy: 0.7806 - val_loss: 0.4721 - val_accuracy: 0.7870\n",
      "Epoch 97/100\n",
      "1201/1201 [==============================] - 7s 6ms/step - loss: 0.4737 - accuracy: 0.7808 - val_loss: 0.4679 - val_accuracy: 0.7865\n",
      "Epoch 98/100\n",
      "1201/1201 [==============================] - 7s 6ms/step - loss: 0.4757 - accuracy: 0.7811 - val_loss: 0.4737 - val_accuracy: 0.7860\n",
      "Epoch 99/100\n",
      "1201/1201 [==============================] - 7s 6ms/step - loss: 0.4748 - accuracy: 0.7795 - val_loss: 0.4698 - val_accuracy: 0.7872\n",
      "Epoch 100/100\n",
      "1201/1201 [==============================] - 8s 7ms/step - loss: 0.4739 - accuracy: 0.7812 - val_loss: 0.4720 - val_accuracy: 0.7873\n",
      "Wall time: 12min 8s\n"
     ]
    }
   ],
   "source": [
    "%%time\n",
    "\n",
    "# Treinamos o modelo\n",
    "history = modelo_v5.fit(X_treino, Y_treino, epochs = 100, batch_size = 128, verbose = 1, validation_split = 0.1)"
   ]
  },
  {
   "cell_type": "code",
   "execution_count": 114,
   "metadata": {
    "scrolled": true
   },
   "outputs": [
    {
     "name": "stdout",
     "output_type": "stream",
     "text": [
      "Model: \"sequential\"\n",
      "_________________________________________________________________\n",
      "Layer (type)                 Output Shape              Param #   \n",
      "=================================================================\n",
      "dense (Dense)                (None, 256)               3328      \n",
      "_________________________________________________________________\n",
      "dropout (Dropout)            (None, 256)               0         \n",
      "_________________________________________________________________\n",
      "dense_1 (Dense)              (None, 256)               65792     \n",
      "_________________________________________________________________\n",
      "dropout_1 (Dropout)          (None, 256)               0         \n",
      "_________________________________________________________________\n",
      "dense_2 (Dense)              (None, 1)                 257       \n",
      "=================================================================\n",
      "Total params: 69,377\n",
      "Trainable params: 69,377\n",
      "Non-trainable params: 0\n",
      "_________________________________________________________________\n"
     ]
    }
   ],
   "source": [
    "# Sumário do modelo\n",
    "modelo_v5.summary()"
   ]
  },
  {
   "cell_type": "code",
   "execution_count": 115,
   "metadata": {},
   "outputs": [
    {
     "data": {
      "image/png": "[encoded data removed]",
      "text/plain": [
       "<Figure size 504x360 with 1 Axes>"
      ]
     },
     "metadata": {
      "needs_background": "light"
     },
     "output_type": "display_data"
    },
    {
     "data": {
      "image/png": "[encoded data removed]",
      "text/plain": [
       "<Figure size 504x360 with 1 Axes>"
      ]
     },
     "metadata": {
      "needs_background": "light"
     },
     "output_type": "display_data"
    }
   ],
   "source": [
    "# Sumário da Acurácia\n",
    "plt.figure(figsize=(7,5))\n",
    "plt.plot(history.history['accuracy'])\n",
    "plt.plot(history.history['val_accuracy'])\n",
    "plt.title('Acurácia do Modelo')\n",
    "plt.ylabel('Acurácia')\n",
    "plt.xlabel('Epoch')\n",
    "plt.legend(['Treino', 'Validação'], loc = 'upper left')\n",
    "plt.show()\n",
    "\n",
    "# Loss\n",
    "plt.figure(figsize=(7,5))\n",
    "plt.plot(history.history['loss'])\n",
    "plt.plot(history.history['val_loss'])\n",
    "plt.title('Erro do Modelo')\n",
    "plt.ylabel('Loss')\n",
    "plt.xlabel('Epoch')\n",
    "plt.legend(['Treino', 'Validação'], loc = 'upper left')\n",
    "plt.show()"
   ]
  },
  {
   "cell_type": "code",
   "execution_count": 120,
   "metadata": {},
   "outputs": [
    {
     "name": "stdout",
     "output_type": "stream",
     "text": [
      "[[7721 1781]\n",
      " [2272 7192]]\n"
     ]
    }
   ],
   "source": [
    "# Previsões\n",
    "previsoes_v5 = modelo_v5.predict(X_teste)\n",
    "previsoes_v5 = np.round(previsoes_v5).astype(int)\n",
    "matriz_v5 = confusion_matrix(Y_teste, previsoes_v5)\n",
    "print(matriz_v5)\n",
    "\n"
   ]
  },
  {
   "cell_type": "code",
   "execution_count": 121,
   "metadata": {},
   "outputs": [
    {
     "name": "stdout",
     "output_type": "stream",
     "text": [
      "              precision    recall  f1-score   support\n",
      "\n",
      "           0       0.77      0.81      0.79      9502\n",
      "           1       0.80      0.76      0.78      9464\n",
      "\n",
      "    accuracy                           0.79     18966\n",
      "   macro avg       0.79      0.79      0.79     18966\n",
      "weighted avg       0.79      0.79      0.79     18966\n",
      "\n"
     ]
    }
   ],
   "source": [
    "# Relatório de Classificação\n",
    "report = classification_report(Y_teste, previsoes_v5)\n",
    "print(report)"
   ]
  },
  {
   "cell_type": "code",
   "execution_count": 122,
   "metadata": {},
   "outputs": [
    {
     "name": "stdout",
     "output_type": "stream",
     "text": [
      "0.7862490754715873\n"
     ]
    }
   ],
   "source": [
    "# Score AUC\n",
    "print(roc_auc_score(Y_teste, previsoes_v5))"
   ]
  },
  {
   "cell_type": "code",
   "execution_count": 143,
   "metadata": {},
   "outputs": [
    {
     "data": {
      "image/png": "[encoded data removed]",
      "text/plain": [
       "<Figure size 576x576 with 1 Axes>"
      ]
     },
     "metadata": {
      "needs_background": "light"
     },
     "output_type": "display_data"
    }
   ],
   "source": [
    "# Plot das métricas\n",
    "import scikitplot as skplt\n",
    "import matplotlib.pyplot as plt\n",
    "f, (ax1) = plt.subplots(1)\n",
    "\n",
    "# Calcula a Curva ROC para cada classe\n",
    "def predict_prob(number):\n",
    "  return [number[0],1-number[0]]\n",
    "\n",
    "y_prob_v5 = np.array(list(map(predict_prob, modelo_v5.predict(X_teste))))\n",
    "y_prob_v5 \n",
    "\n",
    "\n",
    "# Precisamos usar esse procedimento pois o Keras apresenta apenas a probabilidade da classe prevista\n",
    "skplt.metrics.plot_roc(Y_teste, np.concatenate((1 - y_probs_v5, y_probs_v5), axis = 1), ax = ax1)\n",
    "plt.show()"
   ]
  },
  {
   "cell_type": "code",
   "execution_count": 144,
   "metadata": {},
   "outputs": [
    {
     "name": "stdout",
     "output_type": "stream",
     "text": [
      "0.5733267292093919\n"
     ]
    }
   ],
   "source": [
    "# Coeficiente de Correlação de Matthews\n",
    "print(matthews_corrcoef(Y_teste, previsoes_v5))"
   ]
  },
  {
   "cell_type": "markdown",
   "metadata": {},
   "source": [
    "### 3.1 - Comparando os Modelos"
   ]
  },
  {
   "cell_type": "code",
   "execution_count": 145,
   "metadata": {},
   "outputs": [],
   "source": [
    "# Comparando o Score AUC dos modelos\n",
    "\n",
    "# Cria lista vazia\n",
    "lista_auc = []\n",
    "\n",
    "# Calcula o Score AUC para cada modelo\n",
    "auc_modelo_v1 = roc_auc_score(Y_teste, previsoes_v1)\n",
    "auc_modelo_v2 = roc_auc_score(Y_teste, previsoes_v2)\n",
    "auc_modelo_v3 = roc_auc_score(Y_teste, previsoes_v3)\n",
    "auc_modelo_v4 = roc_auc_score(Y_teste, previsoes_v4)\n",
    "auc_modelo_v5 = roc_auc_score(Y_teste, previsoes_v5)\n",
    "\n",
    "# Junta os resultados em uma lista\n",
    "lista_auc = [auc_modelo_v1, auc_modelo_v2, auc_modelo_v3, auc_modelo_v4, auc_modelo_v5]"
   ]
  },
  {
   "cell_type": "code",
   "execution_count": 146,
   "metadata": {},
   "outputs": [],
   "source": [
    "# Comparando o Coeficiente de Correlação de Matthews dos modelos\n",
    "\n",
    "# Cria lista vazia\n",
    "lista_mcorr = []\n",
    "\n",
    "# Calcula o Coeficiente para cada modelo\n",
    "mcorr_v1 = matthews_corrcoef(Y_teste, previsoes_v1)\n",
    "mcorr_v2 = matthews_corrcoef(Y_teste, previsoes_v2)\n",
    "mcorr_v3 = matthews_corrcoef(Y_teste, previsoes_v3)\n",
    "mcorr_v4 = matthews_corrcoef(Y_teste, previsoes_v4)\n",
    "mcorr_v5 = matthews_corrcoef(Y_teste, previsoes_v5)\n",
    "\n",
    "# Junta os resultados em uma lista\n",
    "lista_mcorr = [mcorr_v1, mcorr_v2, mcorr_v3, mcorr_v4, mcorr_v5]"
   ]
  },
  {
   "cell_type": "code",
   "execution_count": 147,
   "metadata": {},
   "outputs": [],
   "source": [
    "# Comparando a Acurácia dos modelos\n",
    "\n",
    "# Cria lista vazia\n",
    "lista_acc = []\n",
    "\n",
    "# Calcula a Acurácia para cada modelo\n",
    "acc_modelo_v1 = accuracy_score(Y_teste, previsoes_v1)\n",
    "acc_modelo_v2 = accuracy_score(Y_teste, previsoes_v2)\n",
    "acc_modelo_v3 = accuracy_score(Y_teste, previsoes_v3)\n",
    "acc_modelo_v4 = accuracy_score(Y_teste, previsoes_v4)\n",
    "acc_modelo_v5 = accuracy_score(Y_teste, previsoes_v5)\n",
    "\n",
    "# Junta os resultados em uma lista\n",
    "lista_acc = [acc_modelo_v1, acc_modelo_v2, acc_modelo_v3, acc_modelo_v4, acc_modelo_v5]"
   ]
  },
  {
   "cell_type": "code",
   "execution_count": 148,
   "metadata": {},
   "outputs": [],
   "source": [
    "# Concatena as 3 listas de métricas em uma única tabela\n",
    "lista_metricas = pd.DataFrame(np.column_stack([lista_auc, lista_mcorr, lista_acc]), \n",
    "                              columns = ['AUC', 'Matthews', 'Acurácia'])\n",
    "\n",
    "# Adiciona uma coluna com os nomes dos modelos\n",
    "lista_metricas['Modelo'] = ['Regressão Logística', 'RandomForest', 'Naive Bayes', 'KNN', 'Deep Learning']"
   ]
  },
  {
   "cell_type": "code",
   "execution_count": 149,
   "metadata": {},
   "outputs": [
    {
     "data": {
      "text/html": [
       "<div>\n",
       "<style scoped>\n",
       "    .dataframe tbody tr th:only-of-type {\n",
       "        vertical-align: middle;\n",
       "    }\n",
       "\n",
       "    .dataframe tbody tr th {\n",
       "        vertical-align: top;\n",
       "    }\n",
       "\n",
       "    .dataframe thead th {\n",
       "        text-align: right;\n",
       "    }\n",
       "</style>\n",
       "<table border=\"1\" class=\"dataframe\">\n",
       "  <thead>\n",
       "    <tr style=\"text-align: right;\">\n",
       "      <th></th>\n",
       "      <th>AUC</th>\n",
       "      <th>Matthews</th>\n",
       "      <th>Acurácia</th>\n",
       "      <th>Modelo</th>\n",
       "    </tr>\n",
       "  </thead>\n",
       "  <tbody>\n",
       "    <tr>\n",
       "      <th>1</th>\n",
       "      <td>0.836885</td>\n",
       "      <td>0.674182</td>\n",
       "      <td>0.836919</td>\n",
       "      <td>RandomForest</td>\n",
       "    </tr>\n",
       "    <tr>\n",
       "      <th>3</th>\n",
       "      <td>0.799756</td>\n",
       "      <td>0.600596</td>\n",
       "      <td>0.799694</td>\n",
       "      <td>KNN</td>\n",
       "    </tr>\n",
       "    <tr>\n",
       "      <th>4</th>\n",
       "      <td>0.786249</td>\n",
       "      <td>0.573327</td>\n",
       "      <td>0.786302</td>\n",
       "      <td>Deep Learning</td>\n",
       "    </tr>\n",
       "    <tr>\n",
       "      <th>0</th>\n",
       "      <td>0.770063</td>\n",
       "      <td>0.543165</td>\n",
       "      <td>0.770168</td>\n",
       "      <td>Regressão Logística</td>\n",
       "    </tr>\n",
       "    <tr>\n",
       "      <th>2</th>\n",
       "      <td>0.731153</td>\n",
       "      <td>0.468049</td>\n",
       "      <td>0.731309</td>\n",
       "      <td>Naive Bayes</td>\n",
       "    </tr>\n",
       "  </tbody>\n",
       "</table>\n",
       "</div>"
      ],
      "text/plain": [
       "        AUC  Matthews  Acurácia               Modelo\n",
       "1  0.836885  0.674182  0.836919         RandomForest\n",
       "3  0.799756  0.600596  0.799694                  KNN\n",
       "4  0.786249  0.573327  0.786302        Deep Learning\n",
       "0  0.770063  0.543165  0.770168  Regressão Logística\n",
       "2  0.731153  0.468049  0.731309          Naive Bayes"
      ]
     },
     "execution_count": 149,
     "metadata": {},
     "output_type": "execute_result"
    }
   ],
   "source": [
    "# Lista as métricas por ordem decrescente do Score AUC\n",
    "lista_metricas.sort_values(by ='AUC', ascending = False)"
   ]
  },
  {
   "cell_type": "markdown",
   "metadata": {},
   "source": [
    "### 3.2 - Preparando a Versão Final do Modelo"
   ]
  },
  {
   "cell_type": "code",
   "execution_count": 150,
   "metadata": {},
   "outputs": [
    {
     "data": {
      "text/plain": [
       "RandomForestClassifier(n_estimators=200)"
      ]
     },
     "execution_count": 150,
     "metadata": {},
     "output_type": "execute_result"
    }
   ],
   "source": [
    "# Cria e treina o modelo\n",
    "modelo_final_rf = RandomForestClassifier(n_estimators = 200)\n",
    "modelo_final_rf.fit(X_treino, Y_treino)"
   ]
  },
  {
   "cell_type": "code",
   "execution_count": 151,
   "metadata": {},
   "outputs": [],
   "source": [
    "# Salvando o modelo\n",
    "import pickle\n",
    "filename = 'modelos/modelo_final.sav'\n",
    "pickle.dump(modelo_final_rf, open(filename, 'wb'))"
   ]
  },
  {
   "cell_type": "code",
   "execution_count": 152,
   "metadata": {},
   "outputs": [],
   "source": [
    "# Carregando o Modelo\n",
    "classificador_pacientes = pickle.load(open(filename, 'rb'))"
   ]
  },
  {
   "cell_type": "code",
   "execution_count": 153,
   "metadata": {},
   "outputs": [
    {
     "data": {
      "text/plain": [
       "RandomForestClassifier(n_estimators=200)"
      ]
     },
     "execution_count": 153,
     "metadata": {},
     "output_type": "execute_result"
    }
   ],
   "source": [
    "classificador_pacientes"
   ]
  },
  {
   "cell_type": "markdown",
   "metadata": {},
   "source": [
    "## 4.0 - Deploy do Modelo"
   ]
  },
  {
   "cell_type": "code",
   "execution_count": 154,
   "metadata": {},
   "outputs": [
    {
     "data": {
      "text/html": [
       "<div>\n",
       "<style scoped>\n",
       "    .dataframe tbody tr th:only-of-type {\n",
       "        vertical-align: middle;\n",
       "    }\n",
       "\n",
       "    .dataframe tbody tr th {\n",
       "        vertical-align: top;\n",
       "    }\n",
       "\n",
       "    .dataframe thead th {\n",
       "        text-align: right;\n",
       "    }\n",
       "</style>\n",
       "<table border=\"1\" class=\"dataframe\">\n",
       "  <thead>\n",
       "    <tr style=\"text-align: right;\">\n",
       "      <th></th>\n",
       "      <th>IDADE</th>\n",
       "      <th>SEXO_F</th>\n",
       "      <th>SEXO_M</th>\n",
       "      <th>ADM_CORRENTE_DIAS</th>\n",
       "      <th>RECEB_MEDICAMENTOS</th>\n",
       "      <th>FEZ_EXAMES</th>\n",
       "      <th>DEPEND_QUIMICO</th>\n",
       "      <th>FUMANTE</th>\n",
       "      <th>ALCOOLISMO</th>\n",
       "      <th>NUM_DIAS_INT_PREVIA</th>\n",
       "      <th>ADM_PREVIA_DIAS</th>\n",
       "      <th>NUM_DIAS_LIC_MEDICA</th>\n",
       "    </tr>\n",
       "  </thead>\n",
       "  <tbody>\n",
       "    <tr>\n",
       "      <th>138614</th>\n",
       "      <td>77.000000</td>\n",
       "      <td>1</td>\n",
       "      <td>0</td>\n",
       "      <td>5</td>\n",
       "      <td>0</td>\n",
       "      <td>0</td>\n",
       "      <td>1</td>\n",
       "      <td>0</td>\n",
       "      <td>0</td>\n",
       "      <td>1</td>\n",
       "      <td>6</td>\n",
       "      <td>0</td>\n",
       "    </tr>\n",
       "    <tr>\n",
       "      <th>120432</th>\n",
       "      <td>58.197334</td>\n",
       "      <td>0</td>\n",
       "      <td>1</td>\n",
       "      <td>1</td>\n",
       "      <td>0</td>\n",
       "      <td>1</td>\n",
       "      <td>0</td>\n",
       "      <td>0</td>\n",
       "      <td>0</td>\n",
       "      <td>23</td>\n",
       "      <td>83</td>\n",
       "      <td>0</td>\n",
       "    </tr>\n",
       "    <tr>\n",
       "      <th>189012</th>\n",
       "      <td>64.841510</td>\n",
       "      <td>0</td>\n",
       "      <td>1</td>\n",
       "      <td>1</td>\n",
       "      <td>0</td>\n",
       "      <td>0</td>\n",
       "      <td>0</td>\n",
       "      <td>0</td>\n",
       "      <td>0</td>\n",
       "      <td>37</td>\n",
       "      <td>57</td>\n",
       "      <td>0</td>\n",
       "    </tr>\n",
       "    <tr>\n",
       "      <th>18712</th>\n",
       "      <td>69.000000</td>\n",
       "      <td>1</td>\n",
       "      <td>0</td>\n",
       "      <td>5</td>\n",
       "      <td>0</td>\n",
       "      <td>0</td>\n",
       "      <td>1</td>\n",
       "      <td>0</td>\n",
       "      <td>0</td>\n",
       "      <td>0</td>\n",
       "      <td>0</td>\n",
       "      <td>0</td>\n",
       "    </tr>\n",
       "    <tr>\n",
       "      <th>160167</th>\n",
       "      <td>60.000000</td>\n",
       "      <td>0</td>\n",
       "      <td>1</td>\n",
       "      <td>1</td>\n",
       "      <td>0</td>\n",
       "      <td>0</td>\n",
       "      <td>0</td>\n",
       "      <td>0</td>\n",
       "      <td>0</td>\n",
       "      <td>8</td>\n",
       "      <td>66</td>\n",
       "      <td>0</td>\n",
       "    </tr>\n",
       "  </tbody>\n",
       "</table>\n",
       "</div>"
      ],
      "text/plain": [
       "            IDADE  SEXO_F  SEXO_M  ADM_CORRENTE_DIAS  RECEB_MEDICAMENTOS  \\\n",
       "138614  77.000000       1       0                  5                   0   \n",
       "120432  58.197334       0       1                  1                   0   \n",
       "189012  64.841510       0       1                  1                   0   \n",
       "18712   69.000000       1       0                  5                   0   \n",
       "160167  60.000000       0       1                  1                   0   \n",
       "\n",
       "        FEZ_EXAMES  DEPEND_QUIMICO  FUMANTE  ALCOOLISMO  NUM_DIAS_INT_PREVIA  \\\n",
       "138614           0               1        0           0                    1   \n",
       "120432           1               0        0           0                   23   \n",
       "189012           0               0        0           0                   37   \n",
       "18712            0               1        0           0                    0   \n",
       "160167           0               0        0           0                    8   \n",
       "\n",
       "        ADM_PREVIA_DIAS  NUM_DIAS_LIC_MEDICA  \n",
       "138614                6                    0  \n",
       "120432               83                    0  \n",
       "189012               57                    0  \n",
       "18712                 0                    0  \n",
       "160167               66                    0  "
      ]
     },
     "execution_count": 154,
     "metadata": {},
     "output_type": "execute_result"
    }
   ],
   "source": [
    "# Os novos dados devem estar no mesmo formato usado nos dados de teste\n",
    "X_teste.head()"
   ]
  },
  {
   "cell_type": "code",
   "execution_count": 155,
   "metadata": {},
   "outputs": [
    {
     "data": {
      "text/plain": [
       "(18966, 12)"
      ]
     },
     "execution_count": 155,
     "metadata": {},
     "output_type": "execute_result"
    }
   ],
   "source": [
    "X_teste.shape"
   ]
  },
  {
   "cell_type": "code",
   "execution_count": 156,
   "metadata": {},
   "outputs": [
    {
     "name": "stdout",
     "output_type": "stream",
     "text": [
      "(12,)\n",
      "[54  1  0  1  0  1  0  0  0  0  0  0]\n"
     ]
    }
   ],
   "source": [
    "# Dados de um novo paciente\n",
    "novo_paciente = np.array([54,1,0,1,0,1,0,0,0,0,0,0])\n",
    "print(novo_paciente.shape)\n",
    "print(novo_paciente)"
   ]
  },
  {
   "cell_type": "code",
   "execution_count": 157,
   "metadata": {},
   "outputs": [
    {
     "name": "stdout",
     "output_type": "stream",
     "text": [
      "(1, 12)\n",
      "[[54  1  0  1  0  1  0  0  0  0  0  0]]\n"
     ]
    }
   ],
   "source": [
    "# Ajustando o shape dos dados para o modelo\n",
    "novo_paciente_reshaped = novo_paciente.reshape(1, -1)\n",
    "print(novo_paciente_reshaped.shape)\n",
    "print(novo_paciente_reshaped)"
   ]
  },
  {
   "cell_type": "code",
   "execution_count": 158,
   "metadata": {},
   "outputs": [
    {
     "name": "stdout",
     "output_type": "stream",
     "text": [
      "\n",
      "O paciente será readmitido na clínica em até 30 dias após a alta?\n",
      "\n",
      "Sim, o paciente deve ser readmitido na clínica em até 30 dias após a alta.\n"
     ]
    }
   ],
   "source": [
    "# Fazendo a previsão\n",
    "print(\"\\nO paciente será readmitido na clínica em até 30 dias após a alta?\")\n",
    "previsao = classificador_pacientes.predict(novo_paciente_reshaped)\n",
    "if previsao == 0:\n",
    "      print(\"\\nNão, o paciente não deve ser readmitido na clínica em até 30 dias após a alta.\")\n",
    "else:\n",
    "      print(\"\\nSim, o paciente deve ser readmitido na clínica em até 30 dias após a alta.\")"
   ]
  },
  {
   "cell_type": "markdown",
   "metadata": {},
   "source": [
    "# Fim"
   ]
  }
 ],
 "metadata": {
  "kernelspec": {
   "display_name": "Python 3",
   "language": "python",
   "name": "python3"
  },
  "language_info": {
   "codemirror_mode": {
    "name": "ipython",
    "version": 3
   },
   "file_extension": ".py",
   "mimetype": "text/x-python",
   "name": "python",
   "nbconvert_exporter": "python",
   "pygments_lexer": "ipython3",
   "version": "3.8.8"
  }
 },
 "nbformat": 4,
 "nbformat_minor": 2
}
